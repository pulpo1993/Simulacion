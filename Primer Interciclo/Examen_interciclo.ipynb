{
 "cells": [
  {
   "cell_type": "markdown",
   "metadata": {},
   "source": [
    "Examen Interciclo\n",
    "\n",
    "Nombre: Marcelo Durazno"
   ]
  },
  {
   "cell_type": "code",
   "execution_count": 171,
   "metadata": {},
   "outputs": [],
   "source": [
    "#metodo generar numero con cuadrados medios:\n",
    "\n",
    "def cuadrados():\n",
    "    rn=[]\n",
    "    xo = 74731897457\n",
    "    digitos = 5\n",
    "    iteraciones = 100\n",
    "    xn = xo\n",
    "    #print(\"It. \\t Xn \\t Ui \\t Rn\")\n",
    "    for i in range(iteraciones):\n",
    "        xnn = xn**2\n",
    "        txnn = str(xnn).zfill(8)\n",
    "        tam = len(txnn)\n",
    "        ui = int(txnn[int(tam/2-digitos/2):int(tam/2+digitos/2)])\n",
    "        rn.append(ui / (int('9'*digitos)+1)) \n",
    "       #print(str(i) + \"\\t\" + str(xn) + \"\\t\"+ str(ui)+\"\\t\"+str(rn))\n",
    "        xn = ui\n",
    "    \n",
    "    return rn"
   ]
  },
  {
   "cell_type": "code",
   "execution_count": 172,
   "metadata": {},
   "outputs": [],
   "source": [
    "#metodo generar numero con random de python\n",
    "import random\n",
    "def random_python(N):\n",
    "    numeros = []\n",
    "    random.seed(1032022)\n",
    "    [numeros.append(random.random())for i in range(N)]\n",
    "    return numeros"
   ]
  },
  {
   "cell_type": "code",
   "execution_count": 173,
   "metadata": {},
   "outputs": [],
   "source": [
    "#metodo generar numero con congruencia lineal\n",
    "def congruencia():\n",
    "    ui=[]\n",
    "    xo = 7\n",
    "    a = 74731897457\n",
    "    b = 37747318974\n",
    "    m = 19\n",
    "    iteraciones = 100\n",
    "    xn = xo\n",
    "    #print(\"It. \\t Xn \\t Ui\")\n",
    "    for i in range(iteraciones):\n",
    "        xnn = (a*xn+b) % m\n",
    "        ui.append(xnn/m)\n",
    "        #print(str(i) + \"\\t\"+ str(xnn)+\"\\t\"+str(ui))\n",
    "        xn = xnn\n",
    "        \n",
    "    return ui"
   ]
  },
  {
   "cell_type": "code",
   "execution_count": 179,
   "metadata": {},
   "outputs": [],
   "source": [
    "def quintilla(numero):\n",
    "    digito1 = numero[0]\n",
    "    for digito in numero:\n",
    "        if digito != digito1:\n",
    "            return False\n",
    "    return True\n",
    "def full(numero):\n",
    "    # Conteo\n",
    "    guia = dict.fromkeys(numero, 0)\n",
    "    for digito in numero:\n",
    "        guia[digito]+=1\n",
    "    if(2 in guia.values() and 3 in guia.values()):\n",
    "        return True\n",
    "    return False\n",
    "def poker(numero):\n",
    "    if(tercia(numero)):\n",
    "        # Conteo\n",
    "        guia = dict.fromkeys(numero, 0)\n",
    "        for digito in numero:\n",
    "            guia[digito]+=1\n",
    "        for conteo in guia.values():\n",
    "            if conteo >= 4:\n",
    "                return True\n",
    "        return False\n",
    "    else:\n",
    "        return False\n",
    "def tercia(numero):\n",
    "    # Conteo\n",
    "    guia = dict.fromkeys(numero, 0)\n",
    "    for digito in numero:\n",
    "        guia[digito]+=1\n",
    "    # Impar\n",
    "    for conteo in guia.values():\n",
    "        if conteo >= 3:\n",
    "            return True\n",
    "    return False\n",
    "def unPar(numero):\n",
    "    # Conteo\n",
    "    guia = dict.fromkeys(numero, 0)\n",
    "    for digito in numero:\n",
    "        guia[digito]+=1\n",
    "    # Par\n",
    "    for conteo in guia.values():\n",
    "        if conteo >= 2:\n",
    "            return True\n",
    "    return False\n",
    "def dosPares(numero):\n",
    "    # Conteo\n",
    "    guia = dict.fromkeys(numero, 0)\n",
    "    for digito in numero:\n",
    "        guia[digito]+=1\n",
    "    if onep(numero):\n",
    "        par = None\n",
    "        for conteo in guia.items():\n",
    "            if conteo[1] >= 2:\n",
    "                par = conteo[0]\n",
    "                break\n",
    "        # Quitamos el que había\n",
    "        del guia[par]\n",
    "        # Segundo par\n",
    "        for conteo in guia.values():\n",
    "            if conteo >= 2:\n",
    "                return True\n",
    "        return False\n",
    "    else:\n",
    "        return False\n",
    "    \n",
    "def diferentes(numero):\n",
    "    return not (len(numero) != len(set(numero)))\n",
    "\n"
   ]
  },
  {
   "cell_type": "code",
   "execution_count": 238,
   "metadata": {},
   "outputs": [
    {
     "name": "stdout",
     "output_type": "stream",
     "text": [
      "0997\n"
     ]
    }
   ],
   "source": [
    "n= 0.0997\n",
    "n1=str(n)\n",
    "res1=str(n1)[2:8]\n",
    "print(res1)\n"
   ]
  },
  {
   "cell_type": "code",
   "execution_count": 233,
   "metadata": {},
   "outputs": [],
   "source": [
    "def calcular_datos(numeros1):\n",
    "    diferente=0\n",
    "    dosPare=0\n",
    "    unpar=0\n",
    "    tercias=0\n",
    "    pokers=0\n",
    "    fulls=0\n",
    "    quintillas=0\n",
    "    count=0\n",
    "\n",
    "    for i in numeros1:\n",
    "        valores = []\n",
    "        n1=str(i)\n",
    "        res1=str(n1)[2:8]\n",
    "        \n",
    "        if(quintilla(res1)==True):\n",
    "            quintillas+=1\n",
    "        elif(full(res1)==True):\n",
    "            fulls+=1\n",
    "        elif(poker(res1)==True):\n",
    "            pokers+=1\n",
    "        elif(tercia(res1)==True):\n",
    "            tercias+=1\n",
    "        elif(unPar(res1)==True):\n",
    "            unpar+=1\n",
    "        elif(dosPares(res1)==True):\n",
    "            dosPare+=1\n",
    "        elif(diferentes(res1)==True):\n",
    "            diferente+=1\n",
    "\n",
    "        count+=1\n",
    "\n",
    "    res=[diferente,unpar,dosPare,fulls,tercias,pokers,quintillas]\n",
    "    return res\n",
    "    "
   ]
  },
  {
   "cell_type": "code",
   "execution_count": 234,
   "metadata": {
    "scrolled": false
   },
   "outputs": [
    {
     "name": "stdout",
     "output_type": "stream",
     "text": [
      "metodo cuadrados\n",
      "metodo pokar\n",
      "[32, 62, 0, 0, 6, 0, 0]\n",
      "probabilideades\n",
      "[30.240000000000002, 50.4, 10.8, 0.8999999999999999, 7.199999999999999, 0.44999999999999996, 0.01]\n",
      "paso 4\n",
      "[0.10243386243386218, 2.6698412698412706, 10.8, 0.8999999999999999, 0.1999999999999998, 0.44999999999999996, 0.01]\n",
      "paso 5\n",
      "15.132275132275133\n"
     ]
    }
   ],
   "source": [
    "#metodo de la prueba de poker\n",
    "import math\n",
    "print(\"metodo cuadrados\")\n",
    "\n",
    "print(\"metodo pokar\")\n",
    "numeros1= cuadrados()\n",
    "#primer metodo\n",
    "resultado=calcular_datos(numeros1)\n",
    "print(resultado)\n",
    "#prioridades\n",
    "print(\"probabilideades\")\n",
    "pro=[(0.3024*100),(0.5040*100),(0.1080*100),(0.0090*100),(0.0720*100),(0.0045*100),(0.0001*100)]\n",
    "print(probabilidades);\n",
    "print(\"paso 4\")\n",
    "resp=((pro[0]-resultado[0])**2)/pro[0]\n",
    "resp2=((pro[1]-resultado[1])**2)/pro[1]\n",
    "resp3=((pro[2]-resultado[2])**2)/pro[2]\n",
    "resp4=((pro[3]-resultado[3])**2)/pro[3]\n",
    "resp5=((pro[4]-resultado[4])**2)/pro[4]\n",
    "resp6=((pro[5]-resultado[5])**2)/pro[5]\n",
    "resp7=((pro[6]-resultado[6])**2)/pro[6]\n",
    "respuest=[resp,resp2,resp3,resp4,resp5,resp6,resp7]\n",
    "print(respuest)\n",
    "\n",
    "print (\"paso 5\")\n",
    "res1=resp+resp2+resp3+resp4+resp5+resp6+resp7\n",
    "print(res1)   \n",
    "    \n",
    "   \n",
    "            \n",
    "    "
   ]
  },
  {
   "cell_type": "code",
   "execution_count": 235,
   "metadata": {},
   "outputs": [
    {
     "name": "stdout",
     "output_type": "stream",
     "text": [
      "metodo random\n",
      "metodo pokar\n",
      "[16, 71, 0, 2, 11, 0, 0]\n",
      "probabilideades\n",
      "[30.240000000000002, 50.4, 10.8, 0.8999999999999999, 7.199999999999999, 0.44999999999999996, 0.01]\n",
      "paso 4\n",
      "[6.705608465608467, 8.419841269841271, 10.8, 1.3444444444444448, 2.0055555555555564, 0.44999999999999996, 0.01]\n",
      "paso 5\n",
      "29.73544973544974\n"
     ]
    }
   ],
   "source": [
    "#metodo de la prueba de poker\n",
    "import math\n",
    "print(\"metodo random\")\n",
    "\n",
    "print(\"metodo pokar\")\n",
    "numeros1= random_python(100)\n",
    "#primer metodo\n",
    "resultado=calcular_datos(numeros1)\n",
    "print(resultado)\n",
    "#prioridades\n",
    "print(\"probabilideades\")\n",
    "pro=[(0.3024*100),(0.5040*100),(0.1080*100),(0.0090*100),(0.0720*100),(0.0045*100),(0.0001*100)]\n",
    "print(probabilidades);\n",
    "print(\"paso 4\")\n",
    "resp=((pro[0]-resultado[0])**2)/pro[0]\n",
    "resp2=((pro[1]-resultado[1])**2)/pro[1]\n",
    "resp3=((pro[2]-resultado[2])**2)/pro[2]\n",
    "resp4=((pro[3]-resultado[3])**2)/pro[3]\n",
    "resp5=((pro[4]-resultado[4])**2)/pro[4]\n",
    "resp6=((pro[5]-resultado[5])**2)/pro[5]\n",
    "resp7=((pro[6]-resultado[6])**2)/pro[6]\n",
    "respuest=[resp,resp2,resp3,resp4,resp5,resp6,resp7]\n",
    "print(respuest)\n",
    "\n",
    "print (\"paso 5\")\n",
    "res1=resp+resp2+resp3+resp4+resp5+resp6+resp7\n",
    "print(res1)   "
   ]
  },
  {
   "cell_type": "code",
   "execution_count": 236,
   "metadata": {},
   "outputs": [
    {
     "name": "stdout",
     "output_type": "stream",
     "text": [
      "metodo congruencia\n",
      "metodo pokar\n",
      "[89, 0, 0, 0, 0, 0, 11]\n",
      "probabilideades\n",
      "[30.240000000000002, 50.4, 10.8, 0.8999999999999999, 7.199999999999999, 0.44999999999999996, 0.01]\n",
      "paso 4\n",
      "[114.17783068783068, 50.4, 10.8, 0.8999999999999999, 7.199999999999999, 0.44999999999999996, 12078.01]\n",
      "paso 5\n",
      "12261.937830687832\n"
     ]
    }
   ],
   "source": [
    "#metodo de la prueba de poker\n",
    "import math\n",
    "print(\"metodo congruencia\")\n",
    "\n",
    "print(\"metodo pokar\")\n",
    "numeros1= congruencia()\n",
    "#primer metodo\n",
    "resultado=calcular_datos(numeros1)\n",
    "print(resultado)\n",
    "#prioridades\n",
    "print(\"probabilideades\")\n",
    "pro=[(0.3024*100),(0.5040*100),(0.1080*100),(0.0090*100),(0.0720*100),(0.0045*100),(0.0001*100)]\n",
    "print(probabilidades);\n",
    "print(\"paso 4\")\n",
    "resp=((pro[0]-resultado[0])**2)/pro[0]\n",
    "resp2=((pro[1]-resultado[1])**2)/pro[1]\n",
    "resp3=((pro[2]-resultado[2])**2)/pro[2]\n",
    "resp4=((pro[3]-resultado[3])**2)/pro[3]\n",
    "resp5=((pro[4]-resultado[4])**2)/pro[4]\n",
    "resp6=((pro[5]-resultado[5])**2)/pro[5]\n",
    "resp7=((pro[6]-resultado[6])**2)/pro[6]\n",
    "respuest=[resp,resp2,resp3,resp4,resp5,resp6,resp7]\n",
    "print(respuest)\n",
    "\n",
    "print (\"paso 5\")\n",
    "res1=resp+resp2+resp3+resp4+resp5+resp6+resp7\n",
    "print(res1)   "
   ]
  },
  {
   "cell_type": "code",
   "execution_count": null,
   "metadata": {},
   "outputs": [],
   "source": []
  },
  {
   "cell_type": "code",
   "execution_count": null,
   "metadata": {},
   "outputs": [],
   "source": []
  }
 ],
 "metadata": {
  "kernelspec": {
   "display_name": "Python 3",
   "language": "python",
   "name": "python3"
  },
  "language_info": {
   "codemirror_mode": {
    "name": "ipython",
    "version": 3
   },
   "file_extension": ".py",
   "mimetype": "text/x-python",
   "name": "python",
   "nbconvert_exporter": "python",
   "pygments_lexer": "ipython3",
   "version": "3.7.3"
  }
 },
 "nbformat": 4,
 "nbformat_minor": 2
}
