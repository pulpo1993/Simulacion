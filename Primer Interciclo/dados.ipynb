{
 "cells": [
  {
   "cell_type": "code",
   "execution_count": 39,
   "metadata": {},
   "outputs": [],
   "source": [
    "import random \n",
    "import matplotlib.pyplot as plt    "
   ]
  },
  {
   "cell_type": "code",
   "execution_count": 67,
   "metadata": {},
   "outputs": [],
   "source": [
    "def procesar(veces):\n",
    "    cont=0\n",
    "    cont1=0\n",
    "    cont2=0\n",
    "    cont3=0\n",
    "    cont4=0\n",
    "    cont5=0\n",
    "    cont6=0\n",
    "    cont7=0\n",
    "    cont8=0\n",
    "    cont9=0\n",
    "    cont10=0\n",
    "    \n",
    "    for n in range(veces):\n",
    "        num1= random.randint(1,6)\n",
    "        num2= random.randint(1,6)\n",
    "        sum= num1+num2\n",
    "        if (sum==2):\n",
    "            cont+= 1\n",
    "        if (sum==3):\n",
    "            cont1+= 1\n",
    "        if (sum==4):\n",
    "            cont2+= 1\n",
    "        if (sum==5):\n",
    "            cont3+= 1\n",
    "        if (sum==6):\n",
    "            cont4+= 1\n",
    "        if (sum==7):\n",
    "            cont5+= 1\n",
    "        if (sum==8):\n",
    "            cont6+= 1\n",
    "        if (sum==9):\n",
    "            cont7+= 1\n",
    "        if (sum==10):\n",
    "            cont8+= 1\n",
    "        if (sum==11):\n",
    "            cont9+= 1\n",
    "        if (sum==12):\n",
    "            cont10+= 1\n",
    "    \n",
    "    print ('sum = 2   ', cont)\n",
    "    print ('sum = 3   ', cont1)\n",
    "    print ('sum = 4   ', cont2)\n",
    "    print ('sum = 5   ', cont3)\n",
    "    print ('sum = 6   ', cont4)\n",
    "    print ('sum = 7   ', cont5)\n",
    "    print ('sum = 8   ', cont6)\n",
    "    print ('sum = 9   ', cont7)\n",
    "    print ('sum = 10  ', cont8)\n",
    "    print ('sum = 11  ', cont9)\n",
    "    print ('sum = 12  ', cont10)\n",
    "    ## Declaramos valores para el eje x\n",
    "    eje_x = ['2', '3', '4','5', '6', '7','8', '9', '10','11', '12']\n",
    " \n",
    "    ## Declaramos valores para el eje y\n",
    "    eje_y = [cont,cont1,cont2,cont3,cont4,cont5,cont6,cont7,cont8,cont9,cont10]\n",
    "\n",
    "    ## Creamos Gráfica\n",
    "    plt.bar(eje_x, eje_y)\n",
    "\n",
    "    ## Legenda en el eje y\n",
    "    plt.ylabel('probabilidad')\n",
    "\n",
    "    ## Legenda en el eje x\n",
    "    plt.xlabel('# iteraciones')\n",
    "\n",
    "    ## Título de Gráfica\n",
    "    plt.title('Juego de dados')\n",
    "\n",
    "    ## Mostramos Gráfica\n",
    "    plt.show()\n",
    " \n"
   ]
  },
  {
   "cell_type": "code",
   "execution_count": 68,
   "metadata": {},
   "outputs": [
    {
     "name": "stdout",
     "output_type": "stream",
     "text": [
      "sum = 2    2\n",
      "sum = 3    6\n",
      "sum = 4    6\n",
      "sum = 5    9\n",
      "sum = 6    13\n",
      "sum = 7    23\n",
      "sum = 8    13\n",
      "sum = 9    8\n",
      "sum = 10   13\n",
      "sum = 11   4\n",
      "sum = 12   3\n"
     ]
    },
    {
     "data": {
      "image/png": "[encoded data removed]",
      "text/plain": [
       "<Figure size 432x288 with 1 Axes>"
      ]
     },
     "metadata": {
      "needs_background": "light"
     },
     "output_type": "display_data"
    }
   ],
   "source": [
    "r1= procesar(100)"
   ]
  },
  {
   "cell_type": "code",
   "execution_count": 69,
   "metadata": {},
   "outputs": [
    {
     "name": "stdout",
     "output_type": "stream",
     "text": [
      "sum = 2    31\n",
      "sum = 3    29\n",
      "sum = 4    91\n",
      "sum = 5    107\n",
      "sum = 6    139\n",
      "sum = 7    178\n",
      "sum = 8    149\n",
      "sum = 9    102\n",
      "sum = 10   84\n",
      "sum = 11   60\n",
      "sum = 12   30\n"
     ]
    },
    {
     "data": {
      "image/png": "[encoded data removed]",
      "text/plain": [
       "<Figure size 432x288 with 1 Axes>"
      ]
     },
     "metadata": {
      "needs_background": "light"
     },
     "output_type": "display_data"
    }
   ],
   "source": [
    "r1= procesar(1000)"
   ]
  },
  {
   "cell_type": "code",
   "execution_count": 70,
   "metadata": {},
   "outputs": [
    {
     "name": "stdout",
     "output_type": "stream",
     "text": [
      "sum = 2    268\n",
      "sum = 3    574\n",
      "sum = 4    869\n",
      "sum = 5    1120\n",
      "sum = 6    1359\n",
      "sum = 7    1655\n",
      "sum = 8    1401\n",
      "sum = 9    1113\n",
      "sum = 10   810\n",
      "sum = 11   533\n",
      "sum = 12   298\n"
     ]
    },
    {
     "data": {
      "image/png": "[encoded data removed]",
      "text/plain": [
       "<Figure size 432x288 with 1 Axes>"
      ]
     },
     "metadata": {
      "needs_background": "light"
     },
     "output_type": "display_data"
    }
   ],
   "source": [
    "r1= procesar(10000)"
   ]
  },
  {
   "cell_type": "code",
   "execution_count": null,
   "metadata": {},
   "outputs": [],
   "source": []
  }
 ],
 "metadata": {
  "kernelspec": {
   "display_name": "Python 3",
   "language": "python",
   "name": "python3"
  },
  "language_info": {
   "codemirror_mode": {
    "name": "ipython",
    "version": 3
   },
   "file_extension": ".py",
   "mimetype": "text/x-python",
   "name": "python",
   "nbconvert_exporter": "python",
   "pygments_lexer": "ipython3",
   "version": "3.7.3"
  }
 },
 "nbformat": 4,
 "nbformat_minor": 2
}
