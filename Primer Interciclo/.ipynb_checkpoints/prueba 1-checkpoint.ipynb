{
 "cells": [
  {
   "cell_type": "markdown",
   "metadata": {
    "id": "zRm4K4ntnUQx"
   },
   "source": [
    "**Universidad Politecnica Salesiana**\n",
    "\n",
    "**Prueba:** Simulacion\n",
    "\n",
    "**Nombre:** Marcelo Durazno"
   ]
  },
  {
   "cell_type": "code",
   "execution_count": 36,
   "metadata": {
    "id": "FUGCG3ginTgf"
   },
   "outputs": [],
   "source": [
    "#importamos las libreriras necesarias\n",
    "\n",
    "import matplotlib.pyplot as plt\n",
    "import numpy as np\n",
    "import pandas as pd\n",
    "import io\n",
    "import statistics       \n",
    "from google.colab import files\n",
    "import plotly.graph_objects as go"
   ]
  },
  {
   "cell_type": "code",
   "execution_count": null,
   "metadata": {
    "colab": {
     "base_uri": "https://localhost:8080/",
     "height": 73,
     "resources": {
      "http://localhost:8080/nbextensions/google.colab/files.js": {
       "data": "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",
       "headers": [
        [
         "content-type",
         "application/javascript"
        ]
       ],
       "ok": true,
       "status": 200,
       "status_text": ""
      }
     }
    },
    "id": "sWzTw1S3sDhn",
    "outputId": "b79d0224-2542-46d1-eee0-96da884a1218"
   },
   "outputs": [
    {
     "data": {
      "text/html": [
       "\n",
       "     <input type=\"file\" id=\"files-34292e1d-f627-453f-be65-ec4b515156c9\" name=\"files[]\" multiple disabled\n",
       "        style=\"border:none\" />\n",
       "     <output id=\"result-34292e1d-f627-453f-be65-ec4b515156c9\">\n",
       "      Upload widget is only available when the cell has been executed in the\n",
       "      current browser session. Please rerun this cell to enable.\n",
       "      </output>\n",
       "      <script src=\"/nbextensions/google.colab/files.js\"></script> "
      ],
      "text/plain": [
       "<IPython.core.display.HTML object>"
      ]
     },
     "metadata": {},
     "output_type": "display_data"
    },
    {
     "name": "stdout",
     "output_type": "stream",
     "text": [
      "Saving datos.xlsx to datos.xlsx\n"
     ]
    }
   ],
   "source": [
    "#nos permite subir el archivo a colab para poder importarlo luego\n",
    "from google.colab import files \n",
    "  \n",
    "  \n",
    "uploaded = files.upload()"
   ]
  },
  {
   "cell_type": "code",
   "execution_count": 37,
   "metadata": {
    "id": "6j0XddZfoKbz"
   },
   "outputs": [],
   "source": [
    "##cargamos los datos \n",
    "data = pd.read_excel(\"datos.xlsx\", header=[4])\n"
   ]
  },
  {
   "cell_type": "code",
   "execution_count": 41,
   "metadata": {
    "colab": {
     "base_uri": "https://localhost:8080/",
     "height": 751
    },
    "id": "piFPQ-dprpmi",
    "outputId": "ba2041e5-dd49-439f-def8-6ddbadb67158"
   },
   "outputs": [
    {
     "data": {
      "text/html": [
       "\n",
       "  <div id=\"df-8a233e60-5052-44e7-9f96-e6c1a613e2a7\">\n",
       "    <div class=\"colab-df-container\">\n",
       "      <div>\n",
       "<style scoped>\n",
       "    .dataframe tbody tr th:only-of-type {\n",
       "        vertical-align: middle;\n",
       "    }\n",
       "\n",
       "    .dataframe tbody tr th {\n",
       "        vertical-align: top;\n",
       "    }\n",
       "\n",
       "    .dataframe thead th {\n",
       "        text-align: right;\n",
       "    }\n",
       "</style>\n",
       "<table border=\"1\" class=\"dataframe\">\n",
       "  <thead>\n",
       "    <tr style=\"text-align: right;\">\n",
       "      <th></th>\n",
       "      <th>Ranking \\n(1) Tamaño  2021</th>\n",
       "      <th>Ranking \\n(1) Tamaño  2020</th>\n",
       "      <th>Variación Ranking Tamaño 2020 - 2021</th>\n",
       "      <th>NUEVO\\nGE</th>\n",
       "      <th>\\nNombre Grupo Económico</th>\n",
       "      <th>Reporta sus BENEFICIARIOS EFECTIVOS \\n(*)</th>\n",
       "      <th>No. de Integrantes domiciliados en PARAÍSOS FISCALES\\n(**)</th>\n",
       "      <th>No. de Integrantes y Empresas Offshore relacionadas con el Grupo Económico publicados en PANAMÁ PAPERS (***)</th>\n",
       "      <th>Personas \\nNaturales (a)</th>\n",
       "      <th>Personas \\nExtranjeras (b)</th>\n",
       "      <th>...</th>\n",
       "      <th>Impuesto Causado ISD 2019</th>\n",
       "      <th>Impuesto Causado IAE 2020 (5)</th>\n",
       "      <th>Impuesto Causado IAE 2019 (5)</th>\n",
       "      <th>Total Activo \\n(6) 2020</th>\n",
       "      <th>Total Activo \\n(6) 2019</th>\n",
       "      <th>Total Patrimonio (7) 2020</th>\n",
       "      <th>Total Patrimonio \\n(7) 2019</th>\n",
       "      <th>\\nTotal Recaudado (8) 2020</th>\n",
       "      <th>\\nTotal Recaudado (8) 2019</th>\n",
       "      <th>\\nTotal Deuda Generada \\n(9)</th>\n",
       "    </tr>\n",
       "  </thead>\n",
       "  <tbody>\n",
       "    <tr>\n",
       "      <th>0</th>\n",
       "      <td>1</td>\n",
       "      <td>1</td>\n",
       "      <td>0</td>\n",
       "      <td>NaN</td>\n",
       "      <td>BANCO PICHINCHA (DINERS CLUB DEL ECUADOR, BANC...</td>\n",
       "      <td>PARCIALMENTE</td>\n",
       "      <td>2</td>\n",
       "      <td>0</td>\n",
       "      <td>3</td>\n",
       "      <td>1</td>\n",
       "      <td>...</td>\n",
       "      <td>221893.35</td>\n",
       "      <td>3509949</td>\n",
       "      <td>3577970</td>\n",
       "      <td>18949015666</td>\n",
       "      <td>17928760492</td>\n",
       "      <td>3688293052</td>\n",
       "      <td>3699748891</td>\n",
       "      <td>588975950</td>\n",
       "      <td>667872172</td>\n",
       "      <td>NaN</td>\n",
       "    </tr>\n",
       "    <tr>\n",
       "      <th>1</th>\n",
       "      <td>2</td>\n",
       "      <td>2</td>\n",
       "      <td>0</td>\n",
       "      <td>NaN</td>\n",
       "      <td>ALMACENES JUAN ELJURI (BANCO DEL AUSTRO, AEKIA...</td>\n",
       "      <td>PARCIALMENTE</td>\n",
       "      <td>45</td>\n",
       "      <td>42</td>\n",
       "      <td>17</td>\n",
       "      <td>19</td>\n",
       "      <td>...</td>\n",
       "      <td>4339679.14</td>\n",
       "      <td>796827</td>\n",
       "      <td>945874</td>\n",
       "      <td>6417335168</td>\n",
       "      <td>6436090837</td>\n",
       "      <td>1878733441</td>\n",
       "      <td>1955377497</td>\n",
       "      <td>127087663</td>\n",
       "      <td>190328750</td>\n",
       "      <td>NaN</td>\n",
       "    </tr>\n",
       "    <tr>\n",
       "      <th>2</th>\n",
       "      <td>3</td>\n",
       "      <td>3</td>\n",
       "      <td>0</td>\n",
       "      <td>NaN</td>\n",
       "      <td>CORPORACIÓN FAVORITA (COMERCIAL KIWY, SUKASA, ...</td>\n",
       "      <td>PARCIALMENTE</td>\n",
       "      <td>4</td>\n",
       "      <td>5</td>\n",
       "      <td>20</td>\n",
       "      <td>3</td>\n",
       "      <td>...</td>\n",
       "      <td>1617777.87</td>\n",
       "      <td>0</td>\n",
       "      <td>0</td>\n",
       "      <td>3448646302</td>\n",
       "      <td>3343835273</td>\n",
       "      <td>2427005282</td>\n",
       "      <td>2314556018</td>\n",
       "      <td>144524011</td>\n",
       "      <td>139310219</td>\n",
       "      <td>NaN</td>\n",
       "    </tr>\n",
       "    <tr>\n",
       "      <th>3</th>\n",
       "      <td>4</td>\n",
       "      <td>5</td>\n",
       "      <td>1</td>\n",
       "      <td>NaN</td>\n",
       "      <td>BANCO DE GUAYAQUIL (CORPORACION MULTIBG, FIDEI...</td>\n",
       "      <td>SI</td>\n",
       "      <td>2</td>\n",
       "      <td>0</td>\n",
       "      <td>9</td>\n",
       "      <td>0</td>\n",
       "      <td>...</td>\n",
       "      <td>86918.43</td>\n",
       "      <td>4785739</td>\n",
       "      <td>5678838</td>\n",
       "      <td>6014463154</td>\n",
       "      <td>5334073117</td>\n",
       "      <td>784042300</td>\n",
       "      <td>791999072</td>\n",
       "      <td>206200661</td>\n",
       "      <td>234359513</td>\n",
       "      <td>NaN</td>\n",
       "    </tr>\n",
       "    <tr>\n",
       "      <th>4</th>\n",
       "      <td>5</td>\n",
       "      <td>4</td>\n",
       "      <td>-1</td>\n",
       "      <td>NaN</td>\n",
       "      <td>SCHLUMBERGER DEL ECUADOR (CONSORCIO SHUSHUFIND...</td>\n",
       "      <td>NO</td>\n",
       "      <td>8</td>\n",
       "      <td>0</td>\n",
       "      <td>0</td>\n",
       "      <td>0</td>\n",
       "      <td>...</td>\n",
       "      <td>237591.28</td>\n",
       "      <td>0</td>\n",
       "      <td>0</td>\n",
       "      <td>3286786210</td>\n",
       "      <td>3616608480</td>\n",
       "      <td>2426480097</td>\n",
       "      <td>2305837270</td>\n",
       "      <td>202204211</td>\n",
       "      <td>152342627</td>\n",
       "      <td>NaN</td>\n",
       "    </tr>\n",
       "  </tbody>\n",
       "</table>\n",
       "<p>5 rows × 40 columns</p>\n",
       "</div>\n",
       "      <button class=\"colab-df-convert\" onclick=\"convertToInteractive('df-8a233e60-5052-44e7-9f96-e6c1a613e2a7')\"\n",
       "              title=\"Convert this dataframe to an interactive table.\"\n",
       "              style=\"display:none;\">\n",
       "        \n",
       "  <svg xmlns=\"http://www.w3.org/2000/svg\" height=\"24px\"viewBox=\"0 0 24 24\"\n",
       "       width=\"24px\">\n",
       "    <path d=\"M0 0h24v24H0V0z\" fill=\"none\"/>\n",
       "    <path d=\"M18.56 5.44l.94 2.06.94-2.06 2.06-.94-2.06-.94-.94-2.06-.94 2.06-2.06.94zm-11 1L8.5 8.5l.94-2.06 2.06-.94-2.06-.94L8.5 2.5l-.94 2.06-2.06.94zm10 10l.94 2.06.94-2.06 2.06-.94-2.06-.94-.94-2.06-.94 2.06-2.06.94z\"/><path d=\"M17.41 7.96l-1.37-1.37c-.4-.4-.92-.59-1.43-.59-.52 0-1.04.2-1.43.59L10.3 9.45l-7.72 7.72c-.78.78-.78 2.05 0 2.83L4 21.41c.39.39.9.59 1.41.59.51 0 1.02-.2 1.41-.59l7.78-7.78 2.81-2.81c.8-.78.8-2.07 0-2.86zM5.41 20L4 18.59l7.72-7.72 1.47 1.35L5.41 20z\"/>\n",
       "  </svg>\n",
       "      </button>\n",
       "      \n",
       "  <style>\n",
       "    .colab-df-container {\n",
       "      display:flex;\n",
       "      flex-wrap:wrap;\n",
       "      gap: 12px;\n",
       "    }\n",
       "\n",
       "    .colab-df-convert {\n",
       "      background-color: #E8F0FE;\n",
       "      border: none;\n",
       "      border-radius: 50%;\n",
       "      cursor: pointer;\n",
       "      display: none;\n",
       "      fill: #1967D2;\n",
       "      height: 32px;\n",
       "      padding: 0 0 0 0;\n",
       "      width: 32px;\n",
       "    }\n",
       "\n",
       "    .colab-df-convert:hover {\n",
       "      background-color: #E2EBFA;\n",
       "      box-shadow: 0px 1px 2px rgba(60, 64, 67, 0.3), 0px 1px 3px 1px rgba(60, 64, 67, 0.15);\n",
       "      fill: #174EA6;\n",
       "    }\n",
       "\n",
       "    [theme=dark] .colab-df-convert {\n",
       "      background-color: #3B4455;\n",
       "      fill: #D2E3FC;\n",
       "    }\n",
       "\n",
       "    [theme=dark] .colab-df-convert:hover {\n",
       "      background-color: #434B5C;\n",
       "      box-shadow: 0px 1px 3px 1px rgba(0, 0, 0, 0.15);\n",
       "      filter: drop-shadow(0px 1px 2px rgba(0, 0, 0, 0.3));\n",
       "      fill: #FFFFFF;\n",
       "    }\n",
       "  </style>\n",
       "\n",
       "      <script>\n",
       "        const buttonEl =\n",
       "          document.querySelector('#df-8a233e60-5052-44e7-9f96-e6c1a613e2a7 button.colab-df-convert');\n",
       "        buttonEl.style.display =\n",
       "          google.colab.kernel.accessAllowed ? 'block' : 'none';\n",
       "\n",
       "        async function convertToInteractive(key) {\n",
       "          const element = document.querySelector('#df-8a233e60-5052-44e7-9f96-e6c1a613e2a7');\n",
       "          const dataTable =\n",
       "            await google.colab.kernel.invokeFunction('convertToInteractive',\n",
       "                                                     [key], {});\n",
       "          if (!dataTable) return;\n",
       "\n",
       "          const docLinkHtml = 'Like what you see? Visit the ' +\n",
       "            '<a target=\"_blank\" href=https://colab.research.google.com/notebooks/data_table.ipynb>data table notebook</a>'\n",
       "            + ' to learn more about interactive tables.';\n",
       "          element.innerHTML = '';\n",
       "          dataTable['output_type'] = 'display_data';\n",
       "          await google.colab.output.renderOutput(dataTable, element);\n",
       "          const docLink = document.createElement('div');\n",
       "          docLink.innerHTML = docLinkHtml;\n",
       "          element.appendChild(docLink);\n",
       "        }\n",
       "      </script>\n",
       "    </div>\n",
       "  </div>\n",
       "  "
      ],
      "text/plain": [
       "   Ranking \\n(1) Tamaño  2021  Ranking \\n(1) Tamaño  2020  \\\n",
       "0                           1                           1   \n",
       "1                           2                           2   \n",
       "2                           3                           3   \n",
       "3                           4                           5   \n",
       "4                           5                           4   \n",
       "\n",
       "   Variación Ranking Tamaño 2020 - 2021 NUEVO\\nGE  \\\n",
       "0                                     0       NaN   \n",
       "1                                     0       NaN   \n",
       "2                                     0       NaN   \n",
       "3                                     1       NaN   \n",
       "4                                    -1       NaN   \n",
       "\n",
       "                            \\nNombre Grupo Económico  \\\n",
       "0  BANCO PICHINCHA (DINERS CLUB DEL ECUADOR, BANC...   \n",
       "1  ALMACENES JUAN ELJURI (BANCO DEL AUSTRO, AEKIA...   \n",
       "2  CORPORACIÓN FAVORITA (COMERCIAL KIWY, SUKASA, ...   \n",
       "3  BANCO DE GUAYAQUIL (CORPORACION MULTIBG, FIDEI...   \n",
       "4  SCHLUMBERGER DEL ECUADOR (CONSORCIO SHUSHUFIND...   \n",
       "\n",
       "  Reporta sus BENEFICIARIOS EFECTIVOS \\n(*)  \\\n",
       "0                              PARCIALMENTE   \n",
       "1                              PARCIALMENTE   \n",
       "2                              PARCIALMENTE   \n",
       "3                                        SI   \n",
       "4                                        NO   \n",
       "\n",
       "   No. de Integrantes domiciliados en PARAÍSOS FISCALES\\n(**)  \\\n",
       "0                                                  2            \n",
       "1                                                 45            \n",
       "2                                                  4            \n",
       "3                                                  2            \n",
       "4                                                  8            \n",
       "\n",
       "   No. de Integrantes y Empresas Offshore relacionadas con el Grupo Económico publicados en PANAMÁ PAPERS (***)  \\\n",
       "0                                                  0                                                              \n",
       "1                                                 42                                                              \n",
       "2                                                  5                                                              \n",
       "3                                                  0                                                              \n",
       "4                                                  0                                                              \n",
       "\n",
       "   Personas \\nNaturales (a)      Personas \\nExtranjeras (b)      ...  \\\n",
       "0                             3                               1  ...   \n",
       "1                            17                              19  ...   \n",
       "2                            20                               3  ...   \n",
       "3                             9                               0  ...   \n",
       "4                             0                               0  ...   \n",
       "\n",
       "   Impuesto Causado ISD 2019  Impuesto Causado IAE 2020 (5)  \\\n",
       "0                  221893.35                        3509949   \n",
       "1                 4339679.14                         796827   \n",
       "2                 1617777.87                              0   \n",
       "3                   86918.43                        4785739   \n",
       "4                  237591.28                              0   \n",
       "\n",
       "   Impuesto Causado IAE 2019 (5)  Total Activo \\n(6) 2020  \\\n",
       "0                        3577970              18949015666   \n",
       "1                         945874               6417335168   \n",
       "2                              0               3448646302   \n",
       "3                        5678838               6014463154   \n",
       "4                              0               3286786210   \n",
       "\n",
       "   Total Activo \\n(6) 2019  Total Patrimonio (7) 2020  \\\n",
       "0              17928760492                 3688293052   \n",
       "1               6436090837                 1878733441   \n",
       "2               3343835273                 2427005282   \n",
       "3               5334073117                  784042300   \n",
       "4               3616608480                 2426480097   \n",
       "\n",
       "   Total Patrimonio \\n(7) 2019  \\nTotal Recaudado (8) 2020  \\\n",
       "0                   3699748891                   588975950   \n",
       "1                   1955377497                   127087663   \n",
       "2                   2314556018                   144524011   \n",
       "3                    791999072                   206200661   \n",
       "4                   2305837270                   202204211   \n",
       "\n",
       "   \\nTotal Recaudado (8) 2019  \\nTotal Deuda Generada \\n(9)  \n",
       "0                   667872172                           NaN  \n",
       "1                   190328750                           NaN  \n",
       "2                   139310219                           NaN  \n",
       "3                   234359513                           NaN  \n",
       "4                   152342627                           NaN  \n",
       "\n",
       "[5 rows x 40 columns]"
      ]
     },
     "execution_count": 41,
     "metadata": {},
     "output_type": "execute_result"
    }
   ],
   "source": [
    "\n",
    "data.head()\n"
   ]
  },
  {
   "cell_type": "markdown",
   "metadata": {
    "id": "ZCvjXHfvBySD"
   },
   "source": [
    "Generar gráfico de barras de solo las empresas que han mejorado y/ o\n",
    "empeorado su ranking con respecto al año anterior"
   ]
  },
  {
   "cell_type": "code",
   "execution_count": 67,
   "metadata": {
    "colab": {
     "base_uri": "https://localhost:8080/",
     "height": 282
    },
    "id": "C6sIyz2GBQww",
    "outputId": "7a642255-0e89-4aae-cb71-430e742d5d7c"
   },
   "outputs": [
    {
     "data": {
      "image/png": "[encoded data removed]",
      "text/plain": [
       "<Figure size 432x288 with 1 Axes>"
      ]
     },
     "metadata": {
      "needs_background": "light"
     },
     "output_type": "display_data"
    }
   ],
   "source": [
    "result = data['Variación Ranking Tamaño 2020 - 2021'].dropna().tolist()\n",
    "result.pop(0)\n",
    "\n",
    "nega = len([x for x in result if int(x) < 0])\n",
    "posi = len([x for x in result if int(x) > 0])\n",
    "plt.title('empresas que han mejorado empeorado su ranking con respecto al año anterior')\n",
    "plt.bar(['bajan_ranking', 'Aumento de ranking'], [nega, posi])\n",
    "plt.show()"
   ]
  },
  {
   "cell_type": "markdown",
   "metadata": {
    "id": "drHj2hrLCX5d"
   },
   "source": [
    "**2. Generar gráfico de las empresas que tienen panamá papers texto en negrita**"
   ]
  },
  {
   "cell_type": "code",
   "execution_count": 56,
   "metadata": {
    "colab": {
     "base_uri": "https://localhost:8080/",
     "height": 299
    },
    "id": "e9OCHMJ-Aohk",
    "outputId": "3ee43050-4f2e-47ed-b5f7-0b7343b65042"
   },
   "outputs": [
    {
     "name": "stderr",
     "output_type": "stream",
     "text": [
      "No handles with labels found to put in legend.\n"
     ]
    },
    {
     "data": {
      "image/png": "[encoded data removed]",
      "text/plain": [
       "<Figure size 432x288 with 1 Axes>"
      ]
     },
     "metadata": {
      "needs_background": "light"
     },
     "output_type": "display_data"
    }
   ],
   "source": [
    "papers=list(data[\"No. de Integrantes y Empresas Offshore relacionadas con el Grupo Económico publicados en PANAMÁ PAPERS (***)\"][4:302])\n",
    "\n",
    "ListaBancos=list(data[\"\\nNombre Grupo Económico\"][4:302])\n",
    "\n",
    "tienePapers={}\n",
    "noTienePapers={}\n",
    "\n",
    "##recorremos la lista de la lista de paper si es mayor a 0 pertenecen y sino no pertenecen\n",
    "for i in range(len(papers)):\n",
    "  if papers[i]>0:\n",
    "    tienePapers[ListaBancos[i]]=papers[i]\n",
    "  else:\n",
    "    noTienePapers[ListaBancos[i]]=papers[i]\n",
    "\n",
    "eje_x = [\"pertenecen\",\"noPertenecen\"]\n",
    "eje_y = [len(list(tienePapers.keys())), len(list(noTienePapers.keys()))]\n",
    "\n",
    "plt.title('empresas que tienen panamá papers')\n",
    "plt.bar(eje_x, eje_y)\n",
    "plt.ylabel('Cantidad')\n",
    "plt.grid(True)\n",
    "plt.legend()\n",
    "plt.show()"
   ]
  },
  {
   "cell_type": "markdown",
   "metadata": {
    "id": "elU2xAV4FApZ"
   },
   "source": [
    "**3.Generar un pie de las empresas que más aportan a la economía del país**"
   ]
  },
  {
   "cell_type": "code",
   "execution_count": 58,
   "metadata": {
    "id": "bG-mLZmyCXPa"
   },
   "outputs": [],
   "source": [
    "import operator\n",
    "\n",
    "rankingContribucion={}\n",
    "datosRanking2020=list(data[\"\\nTotal Recaudado (8) 2020\"][4:302])\n",
    "\n",
    "##error\n",
    "\n",
    "\n",
    "\n",
    "\n"
   ]
  },
  {
   "cell_type": "markdown",
   "metadata": {
    "id": "3Iz-hS0CFUw5"
   },
   "source": [
    "**4.Obtener las empresas que mayor patrimonio tienen ( 10)**"
   ]
  },
  {
   "cell_type": "code",
   "execution_count": 64,
   "metadata": {
    "colab": {
     "base_uri": "https://localhost:8080/",
     "height": 301
    },
    "id": "Pkz-uJjhFVDe",
    "outputId": "37f12a0d-55c9-48e6-9fad-7dd8f4b76a54"
   },
   "outputs": [
    {
     "name": "stderr",
     "output_type": "stream",
     "text": [
      "No handles with labels found to put in legend.\n"
     ]
    },
    {
     "data": {
      "image/png": "[encoded data removed]",
      "text/plain": [
       "<Figure size 432x288 with 1 Axes>"
      ]
     },
     "metadata": {
      "needs_background": "light"
     },
     "output_type": "display_data"
    }
   ],
   "source": [
    "import operator\n",
    "\n",
    "rak_patrimonio={}\n",
    "rat_2020=list(data[\"Total Patrimonio (7) 2020\"][4:302])\n",
    "ListaBancos=list(data[\"\\nNombre Grupo Económico\"][4:302])\n",
    "\n",
    "\n",
    "for i in range(len(ListaBancos)):\n",
    "  rak_patrimonio[ListaBancos[i]]=[rat_2020[i]]\n",
    "\n",
    "rankingPatrimonio=sorted(rak_patrimonio.items(), key=operator.itemgetter(1), reverse=True)\n",
    "top10_rankingPatrimonio=rankingPatrimonio[:10]\n",
    "patrimonio1=[]\n",
    "patrimonio2=[]\n",
    "for i in top10_rankingPatrimonio:\n",
    " patrimonio1.append(i[0])\n",
    "for i in top10_rankingPatrimonio:\n",
    " patrimonio2.append(int(i[1][0]))\n",
    "\n",
    "eje_x = patrimonio1\n",
    "eje_y = [patrimonio2[0],patrimonio2[1],patrimonio2[2],patrimonio2[3],patrimonio2[4],patrimonio2[5],patrimonio2[6],patrimonio2[7],patrimonio2[8],patrimonio2[9]]\n",
    "\n",
    "\n",
    "plt.title('Obtener las empresas que mayor patrimonio tienen (10).')\n",
    "plt.bar(eje_x, eje_y)\n",
    "plt.legend()\n",
    "plt.show()"
   ]
  },
  {
   "cell_type": "markdown",
   "metadata": {
    "id": "D-1NTn8OIOf6"
   },
   "source": [
    "**Conclusion:**\n",
    "\n",
    "Podemos decir que las empresas que mas aportar a la economia es la de alimentos como tambien luego los bancos, pero creo que se debe hacer primeramente \n",
    "un mejor procesamiento de datos para poder obtener mejor informacion y a su vez los graficos seran mejores"
   ]
  },
  {
   "cell_type": "code",
   "execution_count": null,
   "metadata": {
    "id": "6EhT_xbvI_5R"
   },
   "outputs": [],
   "source": []
  }
 ],
 "metadata": {
  "colab": {
   "collapsed_sections": [],
   "name": "Untitled17.ipynb",
   "provenance": [],
   "toc_visible": true
  },
  "kernelspec": {
   "display_name": "Python 3",
   "language": "python",
   "name": "python3"
  },
  "language_info": {
   "codemirror_mode": {
    "name": "ipython",
    "version": 3
   },
   "file_extension": ".py",
   "mimetype": "text/x-python",
   "name": "python",
   "nbconvert_exporter": "python",
   "pygments_lexer": "ipython3",
   "version": "3.7.3"
  }
 },
 "nbformat": 4,
 "nbformat_minor": 1
}
