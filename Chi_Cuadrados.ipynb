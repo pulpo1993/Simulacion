{
 "cells": [
  {
   "cell_type": "markdown",
   "metadata": {},
   "source": [
    "# Chi_Cuadrados"
   ]
  },
  {
   "cell_type": "markdown",
   "metadata": {},
   "source": [
    "Ejercicio en clases: Calcular, graficar y obtener el valor de Chi Cuadrado para los siguientes generadores con las siguientes semillas:\n",
    "\n",
    "Cuadrados medios: Xo=74731897457, D=7"
   ]
  },
  {
   "cell_type": "code",
   "execution_count": 15,
   "metadata": {},
   "outputs": [],
   "source": [
    "#importamos las librerias necesarias\n",
    "import random\n",
    "import numpy as np\n",
    "import pandas as pd\n",
    "import math"
   ]
  },
  {
   "cell_type": "code",
   "execution_count": 19,
   "metadata": {},
   "outputs": [],
   "source": [
    "def chiCuadrado(numerosAleatorios, repeticiones):\n",
    "    #Defino una funcion para realizar un conteo de los numeros que caen dentro de cada intervalo\n",
    "    def calcular_chi(numeros):\n",
    "      tablas = {}\n",
    "      for i in np.arange(0.1, 1.1, 0.1): # aqui separo en intervalos de 0.1\n",
    "        for j in numeros:\n",
    "          if j > i-0.1 and j <= i: # Compruebo si el valor esta dentro del intervalor\n",
    "            tablas[round(i-0.1,1)] = tablas[round(i-0.1,1)]+1 if round(i-0.1,1) in tablas else 1\n",
    "      return tablas\n",
    "\n",
    "  \n",
    "    def sumatoria_chi(tabla, E):\n",
    "      return sum([(valor-E)**2/E for valor in tabla.values()])\n",
    "    \n",
    "    # Listo eso es todo\n",
    "    print(\"valores de los intervalos\")\n",
    "    tablas = calcular_chi(numerosAleatorios)\n",
    "    print(tablas)\n",
    "    print(\"Calculamos el valor de chi cuadrado\")\n",
    "    return sumatoria_chi(tablas, math.sqrt(repeticiones))"
   ]
  },
  {
   "cell_type": "code",
   "execution_count": 20,
   "metadata": {},
   "outputs": [],
   "source": [
    "#metodo para chi cuadrados\n",
    "def cuadradosMedios(xo, digitos):\n",
    "    iteraciones = 100\n",
    "    xn = xo\n",
    "    aleatorios=[]\n",
    "    # print(\"It. \\t Xn \\t Ui \\t Rn\")\n",
    "    for i in range(iteraciones):\n",
    "        xnn = xn**2\n",
    "        txnn = str(xnn).zfill(8)\n",
    "        tam = len(txnn)\n",
    "        ui = int(txnn[int(tam/2-digitos/2):int(tam/2+digitos/2)])\n",
    "        rn = ui / (int('9'*digitos)+1)\n",
    "        aleatorios.append(rn)\n",
    "        # print(str(i) + \"\\t\" + str(xn) + \"\\t\"+ str(ui)+\"\\t\"+str(rn))\n",
    "        xn = ui\n",
    "    return(aleatorios)"
   ]
  },
  {
   "cell_type": "code",
   "execution_count": 21,
   "metadata": {},
   "outputs": [
    {
     "name": "stdout",
     "output_type": "stream",
     "text": [
      "valores de los intervalos\n",
      "{0.0: 6, 0.1: 9, 0.2: 10, 0.3: 10, 0.4: 6, 0.5: 12, 0.6: 13, 0.7: 11, 0.8: 7, 0.9: 16}\n",
      "Calculamos el valor de chi cuadrado\n",
      "9.200000000000001\n"
     ]
    }
   ],
   "source": [
    "numeros=chiCuadrado(cuadradosMedios(74731897457,7),100)\n",
    "print(numeros)\n"
   ]
  },
  {
   "cell_type": "code",
   "execution_count": 24,
   "metadata": {},
   "outputs": [
    {
     "name": "stdout",
     "output_type": "stream",
     "text": [
      "It. \t Xn \t Ui\n",
      "valores de los intervalos\n",
      "{0.1: 11, 0.3: 22, 0.6: 11, 0.7: 11, 0.8: 23, 0.9: 11}\n",
      "Calculamos el valor de chi cuadrado\n",
      "31.7\n"
     ]
    }
   ],
   "source": [
    "def congruencia_lineal(a,b,xo,m):\n",
    "    iteraciones = 100\n",
    "    xn = xo\n",
    "    print(\"It. \\t Xn \\t Ui\")\n",
    "    aleatorios=[]\n",
    "    for i in range(iteraciones):\n",
    "        xnn = (a*xn+b) % m\n",
    "        ui = xnn/m\n",
    "        # print(str(i) + \"\\t\"+ str(xnn)+\"\\t\"+str(ui))\n",
    "        aleatorios.append(ui)\n",
    "        xn = xnn\n",
    "    return aleatorios\n",
    "\n",
    "resp=chiCuadrado(congruencia_lineal(74731897457, 37747318974, 7, 19),100)\n",
    "print(resp)"
   ]
  },
  {
   "cell_type": "code",
   "execution_count": null,
   "metadata": {},
   "outputs": [],
   "source": []
  }
 ],
 "metadata": {
  "kernelspec": {
   "display_name": "Python 3",
   "language": "python",
   "name": "python3"
  },
  "language_info": {
   "codemirror_mode": {
    "name": "ipython",
    "version": 3
   },
   "file_extension": ".py",
   "mimetype": "text/x-python",
   "name": "python",
   "nbconvert_exporter": "python",
   "pygments_lexer": "ipython3",
   "version": "3.7.3"
  }
 },
 "nbformat": 4,
 "nbformat_minor": 2
}
