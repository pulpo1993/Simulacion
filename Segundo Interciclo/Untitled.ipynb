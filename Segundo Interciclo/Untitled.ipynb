{
 "cells": [
  {
   "cell_type": "markdown",
   "metadata": {},
   "source": [
    "# Aula Invertida 2: Distribuciones de probabilidad\n",
    "\n",
    "En base a la distribución de probabilidades realizadas, generar una investigación de las siguientes distribuciones basandose en los ejemplos de clase (introducción, descripción, ejemplos del uso).\n",
    "\n",
    "    Hipergeométrica\n",
    "    \n",
    "    Uniforme\n",
    "    \n",
    "    Binomial Negativa\n",
    "\n",
    "Autor: Marcelo Durazno"
   ]
  },
  {
   "cell_type": "code",
   "execution_count": 32,
   "metadata": {},
   "outputs": [],
   "source": [
    "#importamos las librerias necesarias\n",
    "import numpy as np\n",
    "from scipy import stats \n",
    "import matplotlib.pyplot as plt"
   ]
  },
  {
   "cell_type": "markdown",
   "metadata": {},
   "source": [
    "## Distribución Hipergeométrica"
   ]
  },
  {
   "cell_type": "markdown",
   "metadata": {},
   "source": [
    " La distribución hipergeométrica es especialmente útil en todos aquellos casos en los que se extraigan muestras o se realizan experiencias repetidas sin devolución del elemento extraído o sin retornar a la situación experimental inicial.\n",
    "\n",
    "Modeliza , de hecho, situaciones en las que se repite un número determinado de veces una prueba dicotómica de manera que con cada sucesivo resultado se ve alterada la probabilidad de obtener en la siguiente prueba uno u otro resultado. Es una distribución .fundamental en el estudio de muestras pequeñas de poblaciones .pequeñas y en el cálculo de probabilidades de, juegos de azar y tiene grandes aplicaciones en el control de calidad en otros procesos experimentales en los que no es posible retornar a la situación de partida.\n",
    "\n",
    "La distribución hipergeométrica puede derivarse de un proceso experimental puro o de Bernouilli con las siguientes características:"
   ]
  },
  {
   "cell_type": "code",
   "execution_count": null,
   "metadata": {},
   "outputs": [],
   "source": []
  }
 ],
 "metadata": {
  "kernelspec": {
   "display_name": "Python 3",
   "language": "python",
   "name": "python3"
  },
  "language_info": {
   "codemirror_mode": {
    "name": "ipython",
    "version": 3
   },
   "file_extension": ".py",
   "mimetype": "text/x-python",
   "name": "python",
   "nbconvert_exporter": "python",
   "pygments_lexer": "ipython3",
   "version": "3.7.3"
  }
 },
 "nbformat": 4,
 "nbformat_minor": 2
}
