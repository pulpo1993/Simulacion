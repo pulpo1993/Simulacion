{
 "cells": [
  {
   "cell_type": "markdown",
   "metadata": {},
   "source": [
    "# Aula Invertida 2: Distribuciones de probabilidad\n",
    "\n",
    "En base a la distribución de probabilidades realizadas, generar una investigación de las siguientes distribuciones basandose en los ejemplos de clase (introducción, descripción, ejemplos del uso).\n",
    "\n",
    "    Hipergeométrica\n",
    "    \n",
    "    Uniforme\n",
    "    \n",
    "    Binomial Negativa\n",
    "\n",
    "Autor: Marcelo Durazno"
   ]
  },
  {
   "cell_type": "code",
   "execution_count": 32,
   "metadata": {},
   "outputs": [],
   "source": [
    "#importamos las librerias necesarias\n",
    "import numpy as np\n",
    "from scipy import stats \n",
    "import matplotlib.pyplot as plt"
   ]
  },
  {
   "cell_type": "markdown",
   "metadata": {},
   "source": [
    "## Distribución Hipergeométrica"
   ]
  },
  {
   "cell_type": "code",
   "execution_count": null,
   "metadata": {},
   "outputs": [],
   "source": []
  }
 ],
 "metadata": {
  "kernelspec": {
   "display_name": "Python 3",
   "language": "python",
   "name": "python3"
  },
  "language_info": {
   "codemirror_mode": {
    "name": "ipython",
    "version": 3
   },
   "file_extension": ".py",
   "mimetype": "text/x-python",
   "name": "python",
   "nbconvert_exporter": "python",
   "pygments_lexer": "ipython3",
   "version": "3.7.3"
  }
 },
 "nbformat": 4,
 "nbformat_minor": 2
}
