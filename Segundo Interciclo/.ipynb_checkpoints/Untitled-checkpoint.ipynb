{
 "cells": [
  {
   "cell_type": "markdown",
   "metadata": {},
   "source": [
    "<h1 style='text-align: center;'> Simpy: Practica GRaficas </h1> \n",
    "\n",
    "Al modelo de simulación de la venta de boletos de un teatro/cine agregar la simulación grafica 2D/3D utilizando cualquier libreria grafica, por ejemplo pygame/tkinter, etc. generar un informe en formato PDF que me permita evidenciar la simulación y generar una grafica/reporte de los resultados."
   ]
  },
  {
   "cell_type": "code",
   "execution_count": 14,
   "metadata": {},
   "outputs": [
    {
     "name": "stdout",
     "output_type": "stream",
     "text": [
      "Pelicula: Conjuro 3 se agoto en el tiempo 54.4 despues de salir a la venta\n",
      "Numero de personas que salieron de la fila/renegados 0\n",
      "Pelicula: Rapidos y Furiosos 10 se agoto en el tiempo 35.3 despues de salir a la venta\n",
      "Numero de personas que salieron de la fila/renegados 7\n",
      "Pelicula: Pulp Fictions se agoto en el tiempo 29.3 despues de salir a la venta\n",
      "Numero de personas que salieron de la fila/renegados 25\n"
     ]
    }
   ],
   "source": [
    "import collections\n",
    "import random\n",
    "import simpy\n",
    "\n",
    "\n",
    "\n",
    "VELOCIDAD_LLEGADA = 42\n",
    "NUM_BOLETO = 50\n",
    "TIEMPO_SIMULACION = 120\n",
    "\n",
    "boletos_peliculas={}\n",
    "\n",
    "def ventaBoletos(env, num_boletos, pelicula, teatro):\n",
    "  with teatro.contador.request() as turno:\n",
    "    resultado = yield turno | teatro.sold_out[pelicula]\n",
    "    if turno not in resultado:\n",
    "      teatro.num_renegados[pelicula] += 1\n",
    "      return\n",
    "    if teatro.num_boletos[pelicula] < num_boletos:\n",
    "      yield env.timeout(0.5) \n",
    "      return\n",
    "    else:\n",
    "      if pelicula in list(boletos_peliculas.keys()):\n",
    "        a=boletos_peliculas.get(pelicula)\n",
    "        a.append(num_boletos)\n",
    "        boletos_peliculas[pelicula]=a\n",
    "      else:\n",
    "        boletos_peliculas[pelicula]=[num_boletos]\n",
    "\n",
    "    teatro.num_boletos[pelicula] -= num_boletos\n",
    "    if teatro.num_boletos[pelicula] < 2:\n",
    "      teatro.sold_out[pelicula].succeed()\n",
    "      teatro.tiempo_agotado[pelicula] = env.now\n",
    "      teatro.num_boletos[pelicula] = 0\n",
    "    yield env.timeout(1)\n",
    "\n",
    "\n",
    "def llegadaClientes(env, teatro):\n",
    "  while True:\n",
    "    yield env.timeout(random.expovariate(1/0.5))\n",
    "    pelicula = random.choices(teatro.peliculas, teatro.probabilidad, k=1)\n",
    "    num_boletos = random.randint(1, 6)\n",
    "    if teatro.num_boletos[pelicula[0]]:\n",
    "      env.process(ventaBoletos(env, num_boletos, pelicula[0], teatro))\n",
    "\n",
    "\n",
    "Teatro = collections.namedtuple('Teatro', 'contador, peliculas, probabilidad, num_boletos, sold_out, tiempo_agotado, num_renegados')\n",
    "\n",
    "env = simpy.Environment()\n",
    "\n",
    "contador = simpy.Resource(env,capacity=1)\n",
    "peliculas = ['Conjuro 3', 'Rapidos y Furiosos 10', 'Pulp Fictions']\n",
    "probabilidad=[0.1, 0.3, 0.6]\n",
    "num_boletos = {pelicula: NUM_BOLETO for pelicula in peliculas}\n",
    "sold_out = {pelicula: env.event() for pelicula in peliculas}\n",
    "tiempo_agotado = {pelicula: None for pelicula in peliculas}\n",
    "num_renegados = {pelicula: 0 for pelicula in peliculas}\n",
    "\n",
    "teatro = Teatro(contador, peliculas, probabilidad, num_boletos, sold_out, tiempo_agotado, num_renegados)\n",
    "env.process(llegadaClientes(env, teatro))\n",
    "env.run(until=TIEMPO_SIMULACION)\n",
    "\n",
    "# Analisis y resultados\n",
    "for pelicula in peliculas:\n",
    "    if teatro.sold_out[pelicula]:\n",
    "        print('Pelicula: %s se agoto en el tiempo %.1f despues de salir a la venta' %(pelicula, teatro.tiempo_agotado[pelicula]))\n",
    "        print('Numero de personas que salieron de la fila/renegados %s' %teatro.num_renegados[pelicula])\n"
   ]
  },
  {
   "cell_type": "code",
   "execution_count": 16,
   "metadata": {},
   "outputs": [
    {
     "name": "stdout",
     "output_type": "stream",
     "text": [
      "Pelicula: Conjuro 3 se agoto en el tiempo 54.4 despues de salir a la venta\n",
      "Numero de personas que salieron de la fila/renegados 0\n",
      "Pelicula: Rapidos y Furiosos 10 se agoto en el tiempo 35.3 despues de salir a la venta\n",
      "Numero de personas que salieron de la fila/renegados 7\n",
      "Pelicula: Pulp Fictions se agoto en el tiempo 29.3 despues de salir a la venta\n",
      "Numero de personas que salieron de la fila/renegados 25\n"
     ]
    }
   ],
   "source": [
    "# Analisis y resultados\n",
    "for pelicula in peliculas:\n",
    "    if teatro.sold_out[pelicula]:\n",
    "        print('Pelicula: %s se agoto en el tiempo %.1f despues de salir a la venta' %(pelicula, teatro.tiempo_agotado[pelicula]))\n",
    "        print('Numero de personas que salieron de la fila/renegados %s' %teatro.num_renegados[pelicula])"
   ]
  },
  {
   "cell_type": "code",
   "execution_count": 21,
   "metadata": {},
   "outputs": [],
   "source": [
    "def generate_histogram(data):\n",
    "    plt.figure(figsize=(13,7))\n",
    "    plt.bar(list(data.keys()), data.values(), color='b')\n",
    "    plt.title(\"Simulación de la venta de boletos\")\n",
    "    plt.ylabel('Tiempo en el que se agoto (min)')\n",
    "    plt.xlabel('Películas')\n",
    "    plt.show()"
   ]
  },
  {
   "cell_type": "code",
   "execution_count": 22,
   "metadata": {},
   "outputs": [
    {
     "data": {
      "image/png": "[encoded data removed]",
      "text/plain": [
       "<Figure size 936x504 with 1 Axes>"
      ]
     },
     "metadata": {
      "needs_background": "light"
     },
     "output_type": "display_data"
    }
   ],
   "source": [
    "generate_histogram(teatro.tiempo_agotado)"
   ]
  },
  {
   "cell_type": "code",
   "execution_count": 23,
   "metadata": {},
   "outputs": [],
   "source": [
    "from turtle import color\n",
    "import simpy\n",
    "import tkinter as tk\n",
    "import matplotlib.pyplot as plt\n",
    "from matplotlib.backends.backend_tkagg import FigureCanvasTkAgg\n",
    "\n",
    "class ClockAndData: \n",
    "    def __init__(self, canvas, peliculas, y1, y2, y3, time): \n",
    "        self.y1 = y1\n",
    "        self.y2 = y2\n",
    "        self.y3 = y3\n",
    "        self.peliculas = peliculas\n",
    "        self.canvas = canvas\n",
    "        self.step_acum=0\n",
    "        self.step_x1=[0]\n",
    "        self.step_y1=[0]\n",
    "        self.step_x2=[0]\n",
    "        self.step_y2=[0]\n",
    "        self.step_x3=[0]\n",
    "        self.step_y3=[0]\n",
    "        data_plot.draw()\n",
    "        self.canvas.update() \n",
    "\n",
    "    def tick(self, y1, y2, y3, time): \n",
    "\n",
    "        a1.cla()\n",
    "\n",
    "        self.step_x1.append(time)\n",
    "        self.step_y1.append(y1)\n",
    "\n",
    "        self.step_x2.append(time)\n",
    "        self.step_y2.append(y2)\n",
    "\n",
    "        self.step_x3.append(time)\n",
    "        self.step_y3.append(y3)\n",
    "\n",
    "        a1.set_title(\"compra boletos Conjuro 3\")\n",
    "        a1.set_xlabel(\"Tiempo\")\n",
    "        a1.set_ylabel(\"Boletos vendidos\")\n",
    "        a1.step(self.step_x1, self.step_y1, color='blue')\n",
    "\n",
    "        a1.legend(['Conjuro 3'])\n",
    "\n",
    "        a2.set_title(\"compra boletos Rapidos y Furiosos 10\")\n",
    "        a2.set_xlabel(\"Tiempo\")\n",
    "        a2.set_ylabel(\"Boletos vendidos\")\n",
    "        a2.step(self.step_x2, self.step_y2, color='red')\n",
    "\n",
    "        a2.legend(['Rapidos y Furiosos 10'])\n",
    "\n",
    "        a3.set_title(\"compra boletos Pulp Fictions\")\n",
    "        a3.set_xlabel(\"Tiempo\")\n",
    "        a3.set_ylabel(\"Boletos vendidos\")\n",
    "        a3.step(self.step_x3, self.step_y3, color='green')\n",
    "\n",
    "        a3.legend(['Pulp Fictions'])\n",
    "\n",
    "        data_plot.draw()\n",
    "        self.canvas.update() \n",
    "        # Re-draw the the clock and data fields on the canvas. Also update the Matplotlib charts. \n",
    "\n",
    "main = tk.Tk()\n",
    "main.title(\"Simulacion compra de boletos de Cine\")\n",
    "\n",
    "top_frame = tk.Frame(main)\n",
    "\n",
    "canvas = tk.Canvas(main, width = 1300, height = 150, bg = \"white\")\n",
    "canvas.pack(side=tk.BOTTOM, expand = False)\n",
    "\n",
    "f = plt.Figure()\n",
    "\n",
    "a1=f.add_subplot(1,3,1)\n",
    "a1.plot()\n",
    "\n",
    "a2=f.add_subplot(1,3,2)\n",
    "a2.plot()\n",
    "\n",
    "a3=f.add_subplot(1,3,3)\n",
    "a3.plot()\n",
    "\n",
    "data_plot = FigureCanvasTkAgg(f, master=main)\n",
    "data_plot.get_tk_widget().config(height = 400)\n",
    "data_plot.get_tk_widget().pack(side=tk.BOTTOM, fill=tk.BOTH, expand=True)\n",
    "\n",
    "canvas.pack()\n",
    "\n",
    "clock = ClockAndData(canvas, peliculas, 0, 0, 0, 0) \n",
    "\n",
    "def create_clock(env):\n",
    "    i=0\n",
    "\n",
    "    while True: \n",
    "        \n",
    "        yield env.timeout(random.expovariate(1/0.5))\n",
    "        \n",
    "        try:\n",
    "            clock.tick(boletos_peliculas.get('Conjuro 3')[i], boletos_peliculas.get('Rapidos y Furiosos 10')[i], boletos_peliculas.get('Pulp Fictions')[i], env.now)\n",
    "            i+=1\n",
    "        except:\n",
    "            break            \n",
    "\n",
    "env = simpy.Environment()\n",
    "env.process(create_clock(env)) \n",
    "env.run(until = TIEMPO_SIMULACION)\n",
    "\n",
    "main.mainloop()"
   ]
  },
  {
   "cell_type": "code",
   "execution_count": null,
   "metadata": {},
   "outputs": [],
   "source": []
  }
 ],
 "metadata": {
  "kernelspec": {
   "display_name": "Python 3",
   "language": "python",
   "name": "python3"
  },
  "language_info": {
   "codemirror_mode": {
    "name": "ipython",
    "version": 3
   },
   "file_extension": ".py",
   "mimetype": "text/x-python",
   "name": "python",
   "nbconvert_exporter": "python",
   "pygments_lexer": "ipython3",
   "version": "3.7.3"
  }
 },
 "nbformat": 4,
 "nbformat_minor": 2
}
