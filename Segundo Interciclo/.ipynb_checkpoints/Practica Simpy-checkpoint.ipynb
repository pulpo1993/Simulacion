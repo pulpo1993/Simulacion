{
 "cells": [
  {
   "cell_type": "markdown",
   "metadata": {},
   "source": [
    "## Práctica SimPy SED\n",
    "Modifique el código anterior a fin de incorporar los siguientes cambios:\n",
    "\n",
    "* Considerar 3 tipos de vehículos con 3 diferentes tiempos de lavado:\n",
    "    * Bus: 15- 20 minutos\n",
    "    * Automóvil: 7-10 minutos\n",
    "    * Furgoneta: 12-15 minutos\n",
    "* Considere que a partir de la entrada del vehículo para ser lavado, deberán tomarse en cuenta los siguientes tiempos correspondientes al proceso de traslado desde la recepción a la máquina de lavado:\n",
    "    * Bus: 4 minutos\n",
    "    * Automóvil: 1 minuto\n",
    "    * Furgoneta: 2 minutos\n",
    "* Identificar el recurso maquina dentro de la simulación\n",
    "* Realice una gráfica comparativa de la simulación con 3 y con 4 máquinas de lavado\n",
    "* Generar llegada de vehiculos de 1 - 2 minutos, por 60 minutos de lavado, el tipo de vehiculo es generado aleatorialmente."
   ]
  },
  {
   "cell_type": "code",
   "execution_count": 9,
   "metadata": {},
   "outputs": [
    {
     "name": "stdout",
     "output_type": "stream",
     "text": [
      "Requirement already satisfied: simpy in c:\\users\\pulpin\\anaconda3\\lib\\site-packages (4.0.1)\n"
     ]
    }
   ],
   "source": [
    "#instalamos la libreria con la que vamos a trabajar\n",
    "!pip install simpy"
   ]
  },
  {
   "cell_type": "code",
   "execution_count": 10,
   "metadata": {},
   "outputs": [],
   "source": [
    "#importamos las librerias que van a ser utilizadas para la practica\n",
    "import simpy\n",
    "import random\n",
    "import matplotlib.pyplot as plt\n",
    "\n",
    "%matplotlib inline"
   ]
  },
  {
   "cell_type": "code",
   "execution_count": 11,
   "metadata": {},
   "outputs": [],
   "source": [
    "#creamos una lista para almacenar los  tiempos que tardan en lavar un vehiculo\n",
    "tiempo={}\n",
    "\n",
    "#creamos nuestras variables de uso.\n",
    "#vehiculo almacena los tipos de vehiculos\n",
    "#tiempo_llegada  cada que tiempo llega\n",
    "#tiempo que se tarda en lavar\n",
    "vehiculo =       [  'Bus',  'Automovil','Furgoneta']\n",
    "tiempo_llegada =  [      4,            1,          2]\n",
    "tiempo_lavado =   [[15,20],       [7,10],    [12,15]]"
   ]
  },
  {
   "cell_type": "code",
   "execution_count": 21,
   "metadata": {},
   "outputs": [],
   "source": [
    "class Lavanderia(object):\n",
    "    \n",
    "    def __init__(self, environment, num_maquinas):\n",
    "        self.env=environment\n",
    "        self.maquinas = simpy.Resource(environment, num_maquinas)\n",
    "        \n",
    "    #metodo para simular lavado de vehiculo\n",
    "    def lavar_vehiculo(self, vehiculo, ncar, time1, time2):\n",
    "        \n",
    "        yield self.env.timeout(random.randint(time1,time2))\n",
    "        print('lavado  {%d%%} vehiculo => %s ' % (random.randint(40,100), vehiculo))\n",
    "            \n",
    "def llegada_vehiculo(env, nombre, lavanderia, ncar):\n",
    "    print('Llega vehiculo: %s a la hora %.2f.' % (nombre, env.now))\n",
    "    with lavanderia.maquinas.request() as maquina:\n",
    "        yield maquina\n",
    "        yield env.timeout(tiempo_llegada[ncar]) \n",
    "        \n",
    "        print('Entra vehiculo a lavarse: %s a la hora %.2f.' % (nombre, env.now))\n",
    "        yield env.process(lavanderia.lavar_vehiculo(\n",
    "            nombre, ncar, tiempo_lavado[ncar][0], tiempo_lavado[ncar][1])\n",
    "        )\n",
    "        print('Vehiculo [%s] lavado a las %.2f.' % (nombre, env.now))\n",
    "        k=env.now \n",
    "    if k in tiempo:\n",
    "        tiempo[k]=tiempo[k]+1 \n",
    "    else:\n",
    "        tiempo[k]=1 \n",
    "\n",
    "def ejecutar_simulacion(env, num_maquinas, intervalo):\n",
    "    lavanderia=Lavanderia(env, num_maquinas)\n",
    "    for i in range(5):\n",
    "        ncar = random.randint(0, 2)\n",
    "        env.process(llegada_vehiculo(env, f'{vehiculo[ncar]}-%d'%(i+1),lavanderia, ncar))\n",
    "    \n",
    "    while True:\n",
    "        yield env.timeout(random.randint(intervalo[0],intervalo[1]))\n",
    "        i+=1\n",
    "        ncar = random.randint(0, 2)\n",
    "        env.process(llegada_vehiculo(env,f'{vehiculo[ncar]}-%d'%(i+1),lavanderia, ncar))\n",
    "\n"
   ]
  },
  {
   "cell_type": "code",
   "execution_count": 29,
   "metadata": {},
   "outputs": [
    {
     "name": "stdout",
     "output_type": "stream",
     "text": [
      "Lavanderia\n",
      "Llega vehiculo: Automovil-1 a la hora 0.00.\n",
      "Llega vehiculo: Automovil-2 a la hora 0.00.\n",
      "Llega vehiculo: Bus-3 a la hora 0.00.\n",
      "Llega vehiculo: Bus-4 a la hora 0.00.\n",
      "Llega vehiculo: Bus-5 a la hora 0.00.\n",
      "Entra vehiculo a lavarse: Automovil-1 a la hora 1.00.\n",
      "Entra vehiculo a lavarse: Automovil-2 a la hora 1.00.\n",
      "Entra vehiculo a lavarse: Bus-3 a la hora 4.00.\n",
      "lavado  {100%} vehiculo => Automovil-1 \n",
      "Vehiculo [Automovil-1] lavado a las 8.00.\n",
      "lavado  {75%} vehiculo => Automovil-2 \n",
      "Vehiculo [Automovil-2] lavado a las 10.00.\n",
      "Entra vehiculo a lavarse: Bus-4 a la hora 12.00.\n",
      "Llega vehiculo: Bus-6 a la hora 13.00.\n",
      "Entra vehiculo a lavarse: Bus-5 a la hora 14.00.\n",
      "Llega vehiculo: Furgoneta-7 a la hora 21.00.\n",
      "lavado  {72%} vehiculo => Bus-3 \n",
      "Vehiculo [Bus-3] lavado a las 22.00.\n",
      "Entra vehiculo a lavarse: Bus-6 a la hora 26.00.\n"
     ]
    },
    {
     "data": {
      "image/png": "[encoded data removed]",
      "text/plain": [
       "<Figure size 432x288 with 1 Axes>"
      ]
     },
     "metadata": {
      "needs_background": "light"
     },
     "output_type": "display_data"
    }
   ],
   "source": [
    "#simulacion con 3 maquinas\n",
    "NUM_MAQUINAS = 3\n",
    "INTERVALO_LLEGADA = [7,13]\n",
    "TIEMPO_SIMULACION = 30\n",
    "\n",
    "print('Lavanderia')\n",
    "random.seed(77)\n",
    "env=simpy.Environment()\n",
    "env.process(ejecutar_simulacion(env, NUM_MAQUINAS, INTERVALO_LLEGADA))\n",
    "env.run(until = TIEMPO_SIMULACION)\n",
    "etiqueta = list(tiempo.keys())\n",
    "valores = list(tiempo.values())\n",
    "plt.bar(range(len(tiempo)), valores, align=\"center\", tick_label=etiqueta)\n",
    "plt.title(\"Tiempo/Salida Vehiculos\")\n",
    "plt.xlabel(\"Tiempo\")\n",
    "plt.ylabel(\"Nro. Vehiculos\")\n",
    "plt.show()"
   ]
  },
  {
   "cell_type": "code",
   "execution_count": 28,
   "metadata": {},
   "outputs": [
    {
     "name": "stdout",
     "output_type": "stream",
     "text": [
      "Lavanderia\n",
      "Llega vehiculo: Automovil-1 a la hora 0.00.\n",
      "Llega vehiculo: Automovil-2 a la hora 0.00.\n",
      "Llega vehiculo: Bus-3 a la hora 0.00.\n",
      "Llega vehiculo: Bus-4 a la hora 0.00.\n",
      "Llega vehiculo: Bus-5 a la hora 0.00.\n",
      "Llega vehiculo: Automovil-6 a la hora 1.00.\n",
      "Entra vehiculo a lavarse: Automovil-1 a la hora 1.00.\n",
      "Entra vehiculo a lavarse: Automovil-2 a la hora 1.00.\n",
      "Llega vehiculo: Furgoneta-7 a la hora 3.00.\n",
      "Entra vehiculo a lavarse: Bus-3 a la hora 4.00.\n",
      "Entra vehiculo a lavarse: Bus-4 a la hora 4.00.\n",
      "Llega vehiculo: Automovil-8 a la hora 4.00.\n",
      "Llega vehiculo: Bus-9 a la hora 5.00.\n",
      "Llega vehiculo: Bus-10 a la hora 7.00.\n",
      "lavado  {60%} vehiculo => Automovil-1 \n",
      "lavado  {47%} vehiculo => Automovil-2 \n",
      "Llega vehiculo: Bus-11 a la hora 9.00.\n",
      "Vehiculo [Automovil-1] lavado a las 9.00.\n",
      "Vehiculo [Automovil-2] lavado a las 9.00.\n",
      "Entra vehiculo a lavarse: Automovil-6 a la hora 10.00.\n",
      "Llega vehiculo: Bus-12 a la hora 11.00.\n",
      "Llega vehiculo: Bus-13 a la hora 12.00.\n",
      "Entra vehiculo a lavarse: Bus-5 a la hora 13.00.\n",
      "Llega vehiculo: Bus-14 a la hora 13.00.\n",
      "Llega vehiculo: Furgoneta-15 a la hora 15.00.\n",
      "Llega vehiculo: Bus-16 a la hora 16.00.\n",
      "Llega vehiculo: Furgoneta-17 a la hora 17.00.\n",
      "lavado  {94%} vehiculo => Bus-4 \n",
      "Llega vehiculo: Bus-18 a la hora 19.00.\n",
      "Vehiculo [Bus-4] lavado a las 19.00.\n",
      "lavado  {76%} vehiculo => Automovil-6 \n",
      "Llega vehiculo: Automovil-19 a la hora 20.00.\n",
      "Vehiculo [Automovil-6] lavado a las 20.00.\n",
      "lavado  {98%} vehiculo => Bus-3 \n",
      "Entra vehiculo a lavarse: Furgoneta-7 a la hora 21.00.\n",
      "Llega vehiculo: Automovil-20 a la hora 21.00.\n",
      "Entra vehiculo a lavarse: Automovil-8 a la hora 21.00.\n",
      "Vehiculo [Bus-3] lavado a las 21.00.\n",
      "Llega vehiculo: Automovil-21 a la hora 23.00.\n",
      "Llega vehiculo: Automovil-22 a la hora 24.00.\n",
      "Entra vehiculo a lavarse: Bus-9 a la hora 25.00.\n",
      "Llega vehiculo: Furgoneta-23 a la hora 25.00.\n",
      "Llega vehiculo: Automovil-24 a la hora 27.00.\n",
      "lavado  {89%} vehiculo => Bus-5 \n",
      "lavado  {91%} vehiculo => Automovil-8 \n",
      "Llega vehiculo: Automovil-25 a la hora 28.00.\n",
      "Vehiculo [Bus-5] lavado a las 28.00.\n",
      "Vehiculo [Automovil-8] lavado a las 28.00.\n",
      "Llega vehiculo: Bus-26 a la hora 29.00.\n",
      "Llega vehiculo: Automovil-27 a la hora 30.00.\n",
      "Llega vehiculo: Furgoneta-28 a la hora 31.00.\n",
      "Entra vehiculo a lavarse: Bus-10 a la hora 32.00.\n",
      "Entra vehiculo a lavarse: Bus-11 a la hora 32.00.\n",
      "lavado  {56%} vehiculo => Furgoneta-7 \n",
      "Llega vehiculo: Furgoneta-29 a la hora 33.00.\n",
      "Vehiculo [Furgoneta-7] lavado a las 33.00.\n",
      "Llega vehiculo: Bus-30 a la hora 35.00.\n",
      "Entra vehiculo a lavarse: Bus-12 a la hora 37.00.\n",
      "Llega vehiculo: Furgoneta-31 a la hora 37.00.\n",
      "Llega vehiculo: Bus-32 a la hora 38.00.\n",
      "Llega vehiculo: Furgoneta-33 a la hora 40.00.\n",
      "lavado  {41%} vehiculo => Bus-9 \n",
      "Llega vehiculo: Automovil-34 a la hora 41.00.\n",
      "Vehiculo [Bus-9] lavado a las 41.00.\n",
      "Llega vehiculo: Automovil-35 a la hora 43.00.\n",
      "Llega vehiculo: Bus-36 a la hora 44.00.\n",
      "Entra vehiculo a lavarse: Bus-13 a la hora 45.00.\n",
      "Llega vehiculo: Bus-37 a la hora 46.00.\n",
      "lavado  {55%} vehiculo => Bus-11 \n",
      "Llega vehiculo: Bus-38 a la hora 47.00.\n",
      "Vehiculo [Bus-11] lavado a las 47.00.\n",
      "Llega vehiculo: Bus-39 a la hora 49.00.\n",
      "lavado  {70%} vehiculo => Bus-10 \n",
      "Vehiculo [Bus-10] lavado a las 50.00.\n",
      "Entra vehiculo a lavarse: Bus-14 a la hora 51.00.\n",
      "Llega vehiculo: Bus-40 a la hora 51.00.\n",
      "Entra vehiculo a lavarse: Furgoneta-15 a la hora 52.00.\n",
      "Llega vehiculo: Bus-41 a la hora 52.00.\n",
      "Llega vehiculo: Bus-42 a la hora 53.00.\n",
      "Llega vehiculo: Bus-43 a la hora 54.00.\n",
      "Llega vehiculo: Bus-44 a la hora 55.00.\n",
      "Llega vehiculo: Furgoneta-45 a la hora 56.00.\n",
      "lavado  {76%} vehiculo => Bus-12 \n",
      "Vehiculo [Bus-12] lavado a las 57.00.\n",
      "Llega vehiculo: Furgoneta-46 a la hora 58.00.\n"
     ]
    },
    {
     "data": {
      "image/png": "[encoded data removed]",
      "text/plain": [
       "<Figure size 432x288 with 1 Axes>"
      ]
     },
     "metadata": {
      "needs_background": "light"
     },
     "output_type": "display_data"
    }
   ],
   "source": [
    "#simulacion con 4 maquinas\n",
    "NUM_MAQUINAS = 4\n",
    "INTERVALO_LLEGADA = [1,2]\n",
    "TIEMPO_SIMULACION = 60\n",
    "\n",
    "print('Lavanderia')\n",
    "random.seed(77)\n",
    "env=simpy.Environment()\n",
    "env.process(ejecutar_simulacion(env, NUM_MAQUINAS, INTERVALO_LLEGADA))\n",
    "env.run(until = TIEMPO_SIMULACION)\n",
    "etiqueta = list(tiempo.keys())\n",
    "valores = list(tiempo.values())\n",
    "plt.bar(range(len(tiempo)), valores, align=\"center\", tick_label=etiqueta)\n",
    "plt.title(\"Tiempo/Salida Vehiculos\")\n",
    "plt.xlabel(\"Tiempo\")\n",
    "plt.ylabel(\"Nro. Vehiculos\")\n",
    "plt.show()"
   ]
  },
  {
   "cell_type": "code",
   "execution_count": null,
   "metadata": {},
   "outputs": [],
   "source": []
  }
 ],
 "metadata": {
  "kernelspec": {
   "display_name": "Python 3",
   "language": "python",
   "name": "python3"
  },
  "language_info": {
   "codemirror_mode": {
    "name": "ipython",
    "version": 3
   },
   "file_extension": ".py",
   "mimetype": "text/x-python",
   "name": "python",
   "nbconvert_exporter": "python",
   "pygments_lexer": "ipython3",
   "version": "3.7.3"
  }
 },
 "nbformat": 4,
 "nbformat_minor": 2
}
