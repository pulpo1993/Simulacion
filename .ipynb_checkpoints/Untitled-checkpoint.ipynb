{
 "cells": [
  {
   "cell_type": "markdown",
   "metadata": {},
   "source": [
    "# Prueba 2\n",
    "\n",
    "Nombre: Marcelo Durazno"
   ]
  },
  {
   "cell_type": "code",
   "execution_count": null,
   "metadata": {},
   "outputs": [],
   "source": [
    "#metodo generar numero con cuadrados medios:\n",
    "\n",
    "def cuadrados():\n",
    "    rn=[]\n",
    "    xo = 74731897457\n",
    "    digitos = 7\n",
    "    iteraciones = 100s\n",
    "    xn = xo\n",
    "    #print(\"It. \\t Xn \\t Ui \\t Rn\")\n",
    "    for i in range(iteraciones):\n",
    "        xnn = xn**2\n",
    "        txnn = str(xnn).zfill(8)\n",
    "        tam = len(txnn)\n",
    "        ui = int(txnn[int(tam/2-digitos/2):int(tam/2+digitos/2)])\n",
    "        rn = ui / (int('9'*digitos)+1)\n",
    "       #print(str(i) + \"\\t\" + str(xn) + \"\\t\"+ str(ui)+\"\\t\"+str(rn))\n",
    "        xn = ui\n",
    "    \n",
    "    return rn\n",
    "    "
   ]
  },
  {
   "cell_type": "code",
   "execution_count": null,
   "metadata": {},
   "outputs": [],
   "source": [
    "#metodo generar numero con congruencia lineal\n",
    "def congruencia():\n",
    "    xo = 7\n",
    "    a = 74731897457\n",
    "    b = =37747318974\n",
    "    m = 19\n",
    "    iteraciones = 100\n",
    "    xn = xo\n",
    "    print(\"It. \\t Xn \\t Ui\")\n",
    "    for i in range(iteraciones):\n",
    "        xnn = (a*xn+b) % m\n",
    "        ui = xnn/m\n",
    "        print(str(i) + \"\\t\"+ str(xnn)+\"\\t\"+str(ui))\n",
    "        xn = xnn\n",
    "    \n"
   ]
  },
  {
   "cell_type": "code",
   "execution_count": null,
   "metadata": {},
   "outputs": [],
   "source": [
    "import pandas as pd\n",
    "def tausworth():\n",
    "    q=15\n",
    "    h=7\n",
    "    l=7\n",
    "    nBits=100\n",
    "    generador=[]\n",
    "    conversion=[]\n",
    "    conversion2=[]\n",
    "    result=0\n",
    "\n",
    "    vector_l=list(range(l))\n",
    "    vector_l.reverse()\n",
    "\n",
    "    if h<q:\n",
    "        for i in range(1,len(list(range(1,nBits+1)))+1):\n",
    "            if i<=q:\n",
    "                generador.append(1)\n",
    "            else:\n",
    "                aux1=i-(h+1)\n",
    "                aux2=i-(q+1)\n",
    "                generador.append((generador[aux1]+generador[aux2])%2)\n",
    "\n",
    "        for i in range(l,len(generador)+1,l):\n",
    "            fragmento=generador[i-l:i]\n",
    "            for j in range(len(fragmento)):\n",
    "                result+=fragmento[j]*2**vector_l[j]\n",
    "            conversion.append(result)\n",
    "            conversion2.append(result/(2**l))\n",
    "            result=0\n",
    "\n",
    "\n",
    "        df = pd.DataFrame(generador,index=list(range(1,nBits+1)))\n",
    "\n",
    "        print(df)\n",
    "        print(conversion)\n",
    "        print(conversion2)\n",
    "\n",
    "    else:\n",
    "        print(\"el valor de h tiene que ser menor a q\")\n",
    "    return (conversion2)"
   ]
  },
  {
   "cell_type": "code",
   "execution_count": 108,
   "metadata": {},
   "outputs": [],
   "source": [
    "#metodo generar numero con random de python\n",
    "def random_python(N):\n",
    "    numeros = []\n",
    "    random.seed(1032022)\n",
    "    [numeros.append(random.random())for i in range(N)]\n",
    "    return numeros"
   ]
  },
  {
   "cell_type": "code",
   "execution_count": 109,
   "metadata": {},
   "outputs": [],
   "source": [
    "import math\n",
    "def metodo(l, prome): \n",
    "  \n",
    "    num1=0\n",
    "    n1=0\n",
    "    n2=0\n",
    "    \n",
    "    for i in range(len(l)): \n",
    "          \n",
    "        \n",
    "        if (l[i] >= prome and l[i-1] < prome) or (l[i] < prome and l[i-1] >= prome): \n",
    "            \n",
    "            num1 += 1   \n",
    "          \n",
    "        \n",
    "        if(l[i]) >= prome: \n",
    "            n1 += 1   \n",
    "          \n",
    "        \n",
    "        else: \n",
    "            n2 += 1   \n",
    "  \n",
    "    c0 = ((2*n1*n2)/(n1+n2))+(1/2)\n",
    "    c01 = math.sqrt((2*n1*n2*(2*n1*n2-n1-n2))/(((n1+n2)**2)*(n1+n2-1))) \n",
    "  \n",
    "    z = (num1-c0)/c01 \n",
    "    print ('c0',num1)\n",
    "    print ('n0',n1)\n",
    "    print ('n1',n2)\n",
    "    print ('n',(n1+n2))\n",
    "    \n",
    "  \n",
    "    return z \n",
    "\n",
    "\n",
    "\n"
   ]
  },
  {
   "cell_type": "code",
   "execution_count": 122,
   "metadata": {},
   "outputs": [
    {
     "name": "stdout",
     "output_type": "stream",
     "text": [
      "random\n",
      "c0 46\n",
      "n0 43\n",
      "n1 57\n",
      "n 100\n",
      "Z  0.7218758774415761\n"
     ]
    }
   ],
   "source": [
    "print(\"random\")\n",
    "numeros= random_python(100)\n",
    "prome= 0.5\n",
    "  \n",
    "Z = abs(metodo(numeros, prome)) \n",
    "  \n",
    "print('Z ', Z)\n",
    "\n",
    "    \n",
    "    "
   ]
  },
  {
   "cell_type": "code",
   "execution_count": null,
   "metadata": {},
   "outputs": [],
   "source": [
    "print(\"cuadrados\")\n",
    "numeros1= cuadrados()\n",
    "prome= 0.5\n",
    "  \n",
    "Z = abs(metodo(numeros1, prome)) \n",
    "  \n",
    "print('Z ', Z)"
   ]
  },
  {
   "cell_type": "code",
   "execution_count": null,
   "metadata": {},
   "outputs": [],
   "source": [
    "print(\"Congruencia\")\n",
    "numeros1= congruencia()\n",
    "prome= 0.5\n",
    "  \n",
    "Z = abs(metodo(numeros1, prome)) \n",
    "  \n",
    "print('Z ', Z)"
   ]
  },
  {
   "cell_type": "code",
   "execution_count": null,
   "metadata": {},
   "outputs": [],
   "source": [
    "print(\"tausworth\")\n",
    "numeros1= tausworth()\n",
    "prome= 0.5\n",
    "  \n",
    "Z = abs(metodo(numeros1, prome)) \n",
    "  \n",
    "print('Z ', Z)"
   ]
  }
 ],
 "metadata": {
  "kernelspec": {
   "display_name": "Python 3",
   "language": "python",
   "name": "python3"
  },
  "language_info": {
   "codemirror_mode": {
    "name": "ipython",
    "version": 3
   },
   "file_extension": ".py",
   "mimetype": "text/x-python",
   "name": "python",
   "nbconvert_exporter": "python",
   "pygments_lexer": "ipython3",
   "version": "3.7.3"
  }
 },
 "nbformat": 4,
 "nbformat_minor": 2
}
