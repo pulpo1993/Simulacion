{
 "cells": [
  {
   "cell_type": "markdown",
   "metadata": {},
   "source": [
    "# Prueba 2\n",
    "\n",
    "Nombre: Marcelo Durazno"
   ]
  },
  {
   "cell_type": "code",
   "execution_count": 37,
   "metadata": {},
   "outputs": [],
   "source": [
    "#metodo generar numero con cuadrados medios:\n",
    "\n",
    "def cuadrados():\n",
    "    rn=[]\n",
    "    xo = 74731897457\n",
    "    digitos = 7\n",
    "    iteraciones = 100\n",
    "    xn = xo\n",
    "    #print(\"It. \\t Xn \\t Ui \\t Rn\")\n",
    "    for i in range(iteraciones):\n",
    "        xnn = xn**2\n",
    "        txnn = str(xnn).zfill(8)\n",
    "        tam = len(txnn)\n",
    "        ui = int(txnn[int(tam/2-digitos/2):int(tam/2+digitos/2)])\n",
    "        rn.append(ui / (int('9'*digitos)+1)) \n",
    "       #print(str(i) + \"\\t\" + str(xn) + \"\\t\"+ str(ui)+\"\\t\"+str(rn))\n",
    "        xn = ui\n",
    "    \n",
    "    return rn\n",
    "    "
   ]
  },
  {
   "cell_type": "code",
   "execution_count": 43,
   "metadata": {},
   "outputs": [],
   "source": [
    "#metodo generar numero con congruencia lineal\n",
    "def congruencia():\n",
    "    ui=[]\n",
    "    xo = 7\n",
    "    a = 74731897457\n",
    "    b = 37747318974\n",
    "    m = 19\n",
    "    iteraciones = 100\n",
    "    xn = xo\n",
    "    #print(\"It. \\t Xn \\t Ui\")\n",
    "    for i in range(iteraciones):\n",
    "        xnn = (a*xn+b) % m\n",
    "        ui.append(xnn/m)\n",
    "        #print(str(i) + \"\\t\"+ str(xnn)+\"\\t\"+str(ui))\n",
    "        xn = xnn\n",
    "        \n",
    "    return ui\n",
    "    \n"
   ]
  },
  {
   "cell_type": "code",
   "execution_count": 65,
   "metadata": {},
   "outputs": [],
   "source": [
    "import pandas as pd\n",
    "def tausworth():\n",
    "    ## Condicion \n",
    "    condicion = False\n",
    "    while(condicion == False): \n",
    "      valor_r = 7\n",
    "      valor_q = 15\n",
    "\n",
    "      if (0 < valor_r) and (valor_r < valor_q) :\n",
    "        condicion = True\n",
    "      else:\n",
    "        print(\"\\n Condicion: r y q deben cumplir 0 < r < q. \\n\")  \n",
    "\n",
    "\n",
    "    valor_nm = 100\n",
    "\n",
    "    listaNumerosBinarios = []\n",
    "\n",
    "    ##Creacion de valores binarios con formula bi = (bi-r + bi-q) mod 2\n",
    "    for i in range(0,valor_nm):\n",
    "      if(i<valor_q):\n",
    "        listaNumerosBinarios.append(1)\n",
    "      else: \n",
    "        listaNumerosBinarios.append((listaNumerosBinarios[i-valor_r]+listaNumerosBinarios[i-valor_q]) % 2)\n",
    "    valor_l = 7\n",
    "    valor_agrupaciones = int(valor_nm/valor_l)\n",
    "    print(\"\\nNumero de agrupaciones: \",valor_agrupaciones)\n",
    "\n",
    "    posicion = 0 \n",
    "    aux = valor_l\n",
    "    cont = 0\n",
    "    listaValoresNumericos = []\n",
    "\n",
    "    for j in range(0,valor_agrupaciones):\n",
    "      sublista =listaNumerosBinarios[cont:aux] \n",
    "      binario_To_Decimal = 0\n",
    "      cont2 = 0\n",
    "      for k in range(len(sublista)-1,-1,-1):\n",
    "        if(sublista[cont2]==1): \n",
    "          binario_To_Decimal = 2**(k) + binario_To_Decimal\n",
    "        cont2 = cont2 + 1\n",
    "      listaValoresNumericos.append(round((binario_To_Decimal / (2**valor_l)),2))\n",
    "      cont = cont + valor_l\n",
    "      aux = aux + valor_l\n",
    "\n",
    "    \n",
    "    return listaValoresNumericos"
   ]
  },
  {
   "cell_type": "code",
   "execution_count": 21,
   "metadata": {},
   "outputs": [],
   "source": [
    "#metodo generar numero con random de python\n",
    "import random\n",
    "def random_python(N):\n",
    "    numeros = []\n",
    "    random.seed(1032022)\n",
    "    [numeros.append(random.random())for i in range(N)]\n",
    "    return numeros"
   ]
  },
  {
   "cell_type": "code",
   "execution_count": 22,
   "metadata": {},
   "outputs": [],
   "source": [
    "import math\n",
    "def metodo(l, prome): \n",
    "  \n",
    "    num1=0\n",
    "    n1=0\n",
    "    n2=0\n",
    "    \n",
    "    for i in range(len(l)): \n",
    "          \n",
    "        \n",
    "        if (l[i] >= prome and l[i-1] < prome) or (l[i] < prome and l[i-1] >= prome): \n",
    "            \n",
    "            num1 += 1   \n",
    "          \n",
    "        \n",
    "        if(l[i]) >= prome: \n",
    "            n1 += 1   \n",
    "          \n",
    "        \n",
    "        else: \n",
    "            n2 += 1   \n",
    "  \n",
    "    c0 = ((2*n1*n2)/(n1+n2))+(1/2)\n",
    "    c01 = math.sqrt((2*n1*n2*(2*n1*n2-n1-n2))/(((n1+n2)**2)*(n1+n2-1))) \n",
    "  \n",
    "    z = (num1-c0)/c01 \n",
    "    print ('c0',num1)\n",
    "    print ('n0',n1)\n",
    "    print ('n1',n2)\n",
    "    print ('n',(n1+n2))\n",
    "    \n",
    "  \n",
    "    return z \n",
    "\n",
    "\n",
    "\n"
   ]
  },
  {
   "cell_type": "code",
   "execution_count": 23,
   "metadata": {},
   "outputs": [
    {
     "name": "stdout",
     "output_type": "stream",
     "text": [
      "random\n",
      "c0 46\n",
      "n0 43\n",
      "n1 57\n",
      "n 100\n",
      "Z  0.7218758774415761\n"
     ]
    }
   ],
   "source": [
    "print(\"random\")\n",
    "numeros= random_python(100)\n",
    "prome= 0.5\n",
    "  \n",
    "Z = abs(metodo(numeros, prome)) \n",
    "  \n",
    "print('Z ', Z)\n",
    "\n",
    "    \n",
    "    "
   ]
  },
  {
   "cell_type": "code",
   "execution_count": 39,
   "metadata": {},
   "outputs": [
    {
     "name": "stdout",
     "output_type": "stream",
     "text": [
      "cuadrados\n",
      "c0 48\n",
      "n0 59\n",
      "n1 41\n",
      "n 100\n",
      "Z  0.18288151435083783\n"
     ]
    }
   ],
   "source": [
    "print(\"cuadrados\")\n",
    "numeros1= cuadrados()\n",
    "#print(numeros1)\n",
    "prome= 0.5\n",
    "  \n",
    "Z = abs(metodo(numeros1, prome)) \n",
    "  \n",
    "print('Z ', Z)"
   ]
  },
  {
   "cell_type": "code",
   "execution_count": 45,
   "metadata": {},
   "outputs": [
    {
     "name": "stdout",
     "output_type": "stream",
     "text": [
      "Congruencia\n",
      "c0 44\n",
      "n0 56\n",
      "n1 44\n",
      "n 100\n",
      "Z  1.1790343429651864\n"
     ]
    }
   ],
   "source": [
    "print(\"Congruencia\")\n",
    "numeros1= congruencia()\n",
    "#print(numeros1)\n",
    "prome= 0.5\n",
    "  \n",
    "Z = abs(metodo(numeros1, prome)) \n",
    "  \n",
    "print('Z ', Z)"
   ]
  },
  {
   "cell_type": "code",
   "execution_count": 66,
   "metadata": {},
   "outputs": [
    {
     "name": "stdout",
     "output_type": "stream",
     "text": [
      "tausworth\n",
      "\n",
      "Numero de agrupaciones:  14\n",
      "[0.99, 0.99, 0.5, 0.49, 0.74, 0.5, 0.37, 0.62, 0.69, 0.49, 0.65, 0.59, 0.29, 0.52]\n",
      "c0 8\n",
      "n0 10\n",
      "n1 4\n",
      "n 14\n",
      "Z  1.240494158622183\n"
     ]
    }
   ],
   "source": [
    "print(\"tausworth\")\n",
    "numeros1= tausworth()\n",
    "print(numeros1)\n",
    "prome= 0.5\n",
    "  \n",
    "Z = abs(metodo(numeros1, prome)) \n",
    "  \n",
    "print('Z ', Z)"
   ]
  },
  {
   "cell_type": "code",
   "execution_count": null,
   "metadata": {},
   "outputs": [],
   "source": []
  }
 ],
 "metadata": {
  "kernelspec": {
   "display_name": "Python 3",
   "language": "python",
   "name": "python3"
  },
  "language_info": {
   "codemirror_mode": {
    "name": "ipython",
    "version": 3
   },
   "file_extension": ".py",
   "mimetype": "text/x-python",
   "name": "python",
   "nbconvert_exporter": "python",
   "pygments_lexer": "ipython3",
   "version": "3.7.3"
  }
 },
 "nbformat": 4,
 "nbformat_minor": 2
}
